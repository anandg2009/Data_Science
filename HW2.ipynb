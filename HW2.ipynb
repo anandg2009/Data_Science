{
 "cells": [
  {
   "cell_type": "code",
   "execution_count": 1,
   "id": "3bbbba68",
   "metadata": {},
   "outputs": [
    {
     "name": "stdout",
     "output_type": "stream",
     "text": [
      "value of r is 1\n",
      "3.14\n"
     ]
    }
   ],
   "source": [
    "#Area of a circle : 3.14* (r**2)\n",
    "r=int(input(\"value of r is \"))\n",
    "c= 3.14* (r**2)\n",
    "print(c)"
   ]
  },
  {
   "cell_type": "code",
   "execution_count": 2,
   "id": "8c06703c",
   "metadata": {},
   "outputs": [
    {
     "name": "stdout",
     "output_type": "stream",
     "text": [
      "value of f is 3\n",
      "value of d is 4\n",
      "work done 12\n"
     ]
    }
   ],
   "source": [
    "#Work Done W=f*d\n",
    "\n",
    "f=int(input(\"value of f is \"))\n",
    "\n",
    "d=int(input(\"value of d is \"))\n",
    "w=f*d\n",
    "print(\"work done\",w)\n"
   ]
  },
  {
   "cell_type": "code",
   "execution_count": 3,
   "id": "9d364688",
   "metadata": {},
   "outputs": [
    {
     "name": "stdout",
     "output_type": "stream",
     "text": [
      "enter value in  kilometer:3\n",
      "value of kilometers is: 1.8641130000000001 miles\n"
     ]
    }
   ],
   "source": [
    "kilometer=int(input(\"enter value in  kilometer:\"))\n",
    "\n",
    "conv_fac=0.621371\n",
    "\n",
    "miles=kilometer*conv_fac\n",
    "print(\"value of kilometers is:\",miles,\"miles\")"
   ]
  },
  {
   "cell_type": "code",
   "execution_count": 4,
   "id": "50cb8ce6",
   "metadata": {},
   "outputs": [
    {
     "name": "stdout",
     "output_type": "stream",
     "text": [
      "a is  smaller.\n"
     ]
    }
   ],
   "source": [
    "a=45\n",
    "b=55\n",
    "if b<a:\n",
    "    print(\"a is greater.\")\n",
    "else:\n",
    "    print(\"a is  smaller.\")\n",
    "    \n"
   ]
  },
  {
   "cell_type": "code",
   "execution_count": 5,
   "id": "68e04d25",
   "metadata": {},
   "outputs": [
    {
     "name": "stdout",
     "output_type": "stream",
     "text": [
      "enter the length:1\n",
      "enter the width:2\n",
      "enter the height:3\n",
      "22\n"
     ]
    }
   ],
   "source": [
    "l=int(input(\"enter the length:\"))\n",
    "w=int(input(\"enter the width:\"))\n",
    "h=int(input(\"enter the height:\"))\n",
    "\n",
    "area_of_cuiboid= 2*l*w + 2*l*h + 2*h*w\n",
    "print(area_of_cuiboid)"
   ]
  },
  {
   "cell_type": "code",
   "execution_count": 6,
   "id": "4bd2e5e4",
   "metadata": {},
   "outputs": [
    {
     "name": "stdout",
     "output_type": "stream",
     "text": [
      "enter the radius:2\n",
      "50.24\n"
     ]
    }
   ],
   "source": [
    "r=int(input(\"enter the radius:\"))\n",
    "area_of_sphere= 4*3.14*r**2\n",
    "print(area_of_sphere)"
   ]
  },
  {
   "cell_type": "code",
   "execution_count": 7,
   "id": "51bf277f",
   "metadata": {},
   "outputs": [
    {
     "name": "stdout",
     "output_type": "stream",
     "text": [
      "value of a is 1\n",
      "value of b is 2\n",
      "(a+b)^2 is 9\n"
     ]
    }
   ],
   "source": [
    " #(a+b)2=a2+b2+2ab\n",
    "a=int(input(\"value of a is \"))\n",
    "b=int(input(\"value of b is \"))\n",
    "z=(a**2)+(b**2)+(2*a*b)\n",
    "\n",
    "print(\"(a+b)^2 is\",z)"
   ]
  },
  {
   "cell_type": "code",
   "execution_count": 8,
   "id": "d0936eee",
   "metadata": {},
   "outputs": [
    {
     "name": "stdout",
     "output_type": "stream",
     "text": [
      "value of b is 1\n",
      "value of h is 2\n",
      "Area of a parallelogram is : 2\n"
     ]
    }
   ],
   "source": [
    "#Area of a parallelogram A=bh\n",
    "b=int(input(\"value of b is \"))\n",
    "h=int(input(\"value of h is \"))\n",
    "A=b*h\n",
    "print(\"Area of a parallelogram is :\",A)"
   ]
  },
  {
   "cell_type": "code",
   "execution_count": 9,
   "id": "3971f089",
   "metadata": {},
   "outputs": [
    {
     "name": "stdout",
     "output_type": "stream",
     "text": [
      "value of m is 1\n",
      "value of g is 2\n",
      "value of h is 3\n",
      "Gravitational energy 6\n"
     ]
    }
   ],
   "source": [
    "#Potential energy : PE=MGH\n",
    "m=int(input(\"value of m is \"))\n",
    "g=int(input(\"value of g is \"))\n",
    "h=int(input(\"value of h is \"))\n",
    "PE=m*g*h\n",
    "print(\"Gravitational energy\",PE)\n"
   ]
  },
  {
   "cell_type": "code",
   "execution_count": null,
   "id": "7ed89bfd",
   "metadata": {},
   "outputs": [],
   "source": []
  }
 ],
 "metadata": {
  "kernelspec": {
   "display_name": "Python 3 (ipykernel)",
   "language": "python",
   "name": "python3"
  },
  "language_info": {
   "codemirror_mode": {
    "name": "ipython",
    "version": 3
   },
   "file_extension": ".py",
   "mimetype": "text/x-python",
   "name": "python",
   "nbconvert_exporter": "python",
   "pygments_lexer": "ipython3",
   "version": "3.11.5"
  }
 },
 "nbformat": 4,
 "nbformat_minor": 5
}
