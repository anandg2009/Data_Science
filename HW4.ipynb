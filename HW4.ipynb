{
 "cells": [
  {
   "cell_type": "code",
   "execution_count": 1,
   "id": "5732b9f7",
   "metadata": {},
   "outputs": [],
   "source": [
    "# conditional statements"
   ]
  },
  {
   "cell_type": "code",
   "execution_count": 2,
   "id": "9e7e3282",
   "metadata": {},
   "outputs": [
    {
     "name": "stdout",
     "output_type": "stream",
     "text": [
      "I am not in if\n"
     ]
    }
   ],
   "source": [
    "#1\n",
    "i=10\n",
    "if(i>15):\n",
    "    print(\"10 is less than 15\")\n",
    "print(\"I am not in if\")"
   ]
  },
  {
   "cell_type": "code",
   "execution_count": 3,
   "id": "7d0b065c",
   "metadata": {},
   "outputs": [
    {
     "name": "stdout",
     "output_type": "stream",
     "text": [
      "i is greater than 15\n",
      "I'm in else block\n",
      "it's ended\n"
     ]
    }
   ],
   "source": [
    "#2\n",
    "i=20\n",
    "if(i<15):\n",
    "    print(\"i is smaller than 15\")\n",
    "    print(\"I'm in if block\")\n",
    "else:\n",
    "    print(\"i is greater than 15\")\n",
    "    print(\"I'm in else block\")\n",
    "print(\"it's ended\")"
   ]
  },
  {
   "cell_type": "code",
   "execution_count": 4,
   "id": "a8f597f2",
   "metadata": {},
   "outputs": [
    {
     "name": "stdout",
     "output_type": "stream",
     "text": [
      "i is 20\n",
      "Thanku\n"
     ]
    }
   ],
   "source": [
    "#3\n",
    "i=20\n",
    "if(i == 10):\n",
    "    print(\"i is 10\")\n",
    "elif(i == 15):\n",
    "    print(\"i is 15\")\n",
    "elif(i == 20):\n",
    "    print(\"i is 20\")\n",
    "else:\n",
    "    print(\"i is not present\")\n",
    "\n",
    "print(\"Thanku\")"
   ]
  },
  {
   "cell_type": "code",
   "execution_count": 5,
   "id": "5002948f",
   "metadata": {},
   "outputs": [
    {
     "name": "stdout",
     "output_type": "stream",
     "text": [
      "i is less than 15\n"
     ]
    }
   ],
   "source": [
    "#4\n",
    "i=10\n",
    "if(i<15): print(\"i is less than 15\")"
   ]
  },
  {
   "cell_type": "code",
   "execution_count": 6,
   "id": "b1c25ebd",
   "metadata": {},
   "outputs": [
    {
     "name": "stdout",
     "output_type": "stream",
     "text": [
      "enter your age = 34\n",
      "can vote\n"
     ]
    }
   ],
   "source": [
    "#5\n",
    "# can vote or not\n",
    "\n",
    "age = int(input(\"enter your age = \"))\n",
    "if(age>=18):\n",
    "    print(\"can vote\")\n",
    "elif(age<18):\n",
    "    print(\"cannot vote, you are under age\")\n",
    "else:\n",
    "    print(\"Thanku\")"
   ]
  },
  {
   "cell_type": "code",
   "execution_count": 7,
   "id": "40b3c77f",
   "metadata": {},
   "outputs": [
    {
     "name": "stdout",
     "output_type": "stream",
     "text": [
      "enter number of your choice34\n",
      "sorry you are not in 7 family\n"
     ]
    }
   ],
   "source": [
    "#6\n",
    "# divisible by 7 or not\n",
    "x=int(input(\"enter number of your choice\"))\n",
    "if(x%7==0):\n",
    "    print(\"you are in 7 family\")\n",
    "else:\n",
    "    print(\"sorry you are not in 7 family\")"
   ]
  },
  {
   "cell_type": "code",
   "execution_count": 8,
   "id": "18740f3e",
   "metadata": {},
   "outputs": [
    {
     "name": "stdout",
     "output_type": "stream",
     "text": [
      "enter number = 45\n",
      "Hello!\n"
     ]
    }
   ],
   "source": [
    "#7\n",
    "# multiple of 5\n",
    "\n",
    "num=int(input(\"enter number = \"))\n",
    "if(num%5==0):\n",
    "    print(\"Hello!\")\n",
    "else:\n",
    "    print(\"bye\")"
   ]
  },
  {
   "cell_type": "code",
   "execution_count": 9,
   "id": "ce260650",
   "metadata": {},
   "outputs": [
    {
     "name": "stdout",
     "output_type": "stream",
     "text": [
      "enter number of electric unit356\n",
      "amount to pay: 2060\n"
     ]
    }
   ],
   "source": [
    "#8\n",
    "amt=0\n",
    "unit=int(input(\"enter number of electric unit\"))\n",
    "if unit<=100:\n",
    "    amt=0\n",
    "elif unit>100 and unit<=200:\n",
    "    amt=(unit-100)*5\n",
    "elif unit>200:\n",
    "    amt=500+(unit-200)*10\n",
    "print(\"amount to pay:\",amt)"
   ]
  },
  {
   "cell_type": "code",
   "execution_count": 10,
   "id": "9124ff9f",
   "metadata": {},
   "outputs": [
    {
     "name": "stdout",
     "output_type": "stream",
     "text": [
      "enter number = 324\n",
      "last digit of num: 4\n"
     ]
    }
   ],
   "source": [
    "#9\n",
    "num=int(input(\"enter number = \"))\n",
    "print(\"last digit of num:\", num%10)\n",
    "\n"
   ]
  },
  {
   "cell_type": "code",
   "execution_count": 11,
   "id": "5d084dab",
   "metadata": {},
   "outputs": [
    {
     "name": "stdout",
     "output_type": "stream",
     "text": [
      "enter number = 339\n",
      "last digit of number is divisible by 3\n"
     ]
    }
   ],
   "source": [
    "#10\n",
    "num=int(input(\"enter number = \"))\n",
    "id=num%10\n",
    "if id%3==0:\n",
    "    print(\"last digit of number is divisible by 3\")\n",
    "else:\n",
    "    print(\"last digit of num is not divisible by 3\")"
   ]
  },
  {
   "cell_type": "code",
   "execution_count": null,
   "id": "4446f795",
   "metadata": {},
   "outputs": [],
   "source": []
  }
 ],
 "metadata": {
  "kernelspec": {
   "display_name": "Python 3 (ipykernel)",
   "language": "python",
   "name": "python3"
  },
  "language_info": {
   "codemirror_mode": {
    "name": "ipython",
    "version": 3
   },
   "file_extension": ".py",
   "mimetype": "text/x-python",
   "name": "python",
   "nbconvert_exporter": "python",
   "pygments_lexer": "ipython3",
   "version": "3.11.5"
  }
 },
 "nbformat": 4,
 "nbformat_minor": 5
}
