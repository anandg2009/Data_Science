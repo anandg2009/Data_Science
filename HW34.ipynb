{
 "cells": [
  {
   "cell_type": "code",
   "execution_count": 1,
   "id": "f74dcd74-04d3-4832-8396-9e543b61caa6",
   "metadata": {},
   "outputs": [
    {
     "name": "stdout",
     "output_type": "stream",
     "text": [
      "Welcome to Python Restautent\n",
      "Pizza: Rs130\n",
      "Burger: Rs80\n",
      "Cold Coffee: Rs60\n",
      "Roll: Rs90\n",
      "Pasta: Rs50 \n"
     ]
    },
    {
     "name": "stdin",
     "output_type": "stream",
     "text": [
      "Enter the name of item you want to order=  Roll\n"
     ]
    },
    {
     "name": "stdout",
     "output_type": "stream",
     "text": [
      "Your item Roll has been added to your order\n"
     ]
    },
    {
     "name": "stdin",
     "output_type": "stream",
     "text": [
      "Do you want to add another item? (Yes/No) No\n"
     ]
    },
    {
     "name": "stdout",
     "output_type": "stream",
     "text": [
      "The total amount of items to pay is {order_total}\n"
     ]
    }
   ],
   "source": [
    "#restaurent\n",
    "menu={\n",
    "    'Pizza':130,\n",
    "    'Burger':80,\n",
    "    'Cold Coffee':60,\n",
    "    'Roll':90,\n",
    "    'Pasta':50\n",
    "}\n",
    "\n",
    "\n",
    "#Greet\n",
    "print(\"Welcome to Python Restautent\")\n",
    "print(\"Pizza: Rs130\\nBurger: Rs80\\nCold Coffee: Rs60\\nRoll: Rs90\\nPasta: Rs50 \")\n",
    "\n",
    "order_total = 0\n",
    "\n",
    "item_1=input(\"Enter the name of item you want to order= \")\n",
    "if item_1 in menu:\n",
    "    order_total +=menu[item_1]\n",
    "    print(f\"Your item {item_1} has been added to your order\")\n",
    "else:\n",
    "    print(\"Order item {item_1} is not available yet!\")\n",
    "\n",
    "another_order = input(\"Do you want to add another item? (Yes/No)\")\n",
    "if another_order==\"Yes\":\n",
    "    item_2=input(\"Enter the name of second item= \")\n",
    "    if item_2 in menu:\n",
    "        order_total += menu[item_2]\n",
    "        print(f\"item {item_2} has been added to order\")\n",
    "    else:\n",
    "        print(f\"ordered item {item_2} is not available!\")\n",
    "\n",
    "print(\"The total amount of items to pay is {order_total}\")"
   ]
  },
  {
   "cell_type": "code",
   "execution_count": null,
   "id": "c6d00cdf-7e8e-4fd4-b48a-a5ed9e49ca70",
   "metadata": {},
   "outputs": [],
   "source": []
  }
 ],
 "metadata": {
  "kernelspec": {
   "display_name": "Python 3 (ipykernel)",
   "language": "python",
   "name": "python3"
  },
  "language_info": {
   "codemirror_mode": {
    "name": "ipython",
    "version": 3
   },
   "file_extension": ".py",
   "mimetype": "text/x-python",
   "name": "python",
   "nbconvert_exporter": "python",
   "pygments_lexer": "ipython3",
   "version": "3.11.7"
  }
 },
 "nbformat": 4,
 "nbformat_minor": 5
}
