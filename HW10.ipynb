{
 "cells": [
  {
   "cell_type": "code",
   "execution_count": 1,
   "id": "e0236d9d",
   "metadata": {},
   "outputs": [],
   "source": [
    "# Problems on Functions\n",
    "\n",
    "## with case 1 and case 2\n",
    "# case1:(pass nothing \n",
    "#       return somrthing)\n",
    "# case2:(pass something\n",
    "#        return nothing)"
   ]
  },
  {
   "cell_type": "code",
   "execution_count": 40,
   "id": "43da0342",
   "metadata": {},
   "outputs": [
    {
     "name": "stdout",
     "output_type": "stream",
     "text": [
      "5\n"
     ]
    }
   ],
   "source": [
    "# 1\n",
    "def add():\n",
    "    a=2\n",
    "    b=3\n",
    "    c=a+b\n",
    "    print(c)\n",
    "\n",
    "add()"
   ]
  },
  {
   "cell_type": "code",
   "execution_count": 43,
   "id": "160e872b",
   "metadata": {},
   "outputs": [
    {
     "name": "stdout",
     "output_type": "stream",
     "text": [
      "enter any number12\n",
      "even\n"
     ]
    }
   ],
   "source": [
    "# 2\n",
    "def check_no():\n",
    "    num=int(input(\"enter any number\"))\n",
    "    if num%2==0:\n",
    "        print(\"even\")\n",
    "    else:\n",
    "        print(\"odd\")\n",
    "            \n",
    "\n",
    "\n",
    "check_no()"
   ]
  },
  {
   "cell_type": "code",
   "execution_count": 44,
   "id": "ca469357",
   "metadata": {},
   "outputs": [],
   "source": [
    "# 3\n",
    "# check can vote or nor\n",
    "def can_vote():\n",
    "    age=int(input(\"enter your age = \"))\n",
    "    if age>18:\n",
    "        print(\"you can vote\")\n",
    "    else:\n",
    "        print(\"Sorry! you cannot vote\")\n",
    "        "
   ]
  },
  {
   "cell_type": "code",
   "execution_count": 45,
   "id": "28dca6f1",
   "metadata": {},
   "outputs": [
    {
     "name": "stdout",
     "output_type": "stream",
     "text": [
      "enter your age = 20\n",
      "you can vote\n",
      "end\n"
     ]
    }
   ],
   "source": [
    "can_vote()\n",
    "print(\"end\")"
   ]
  },
  {
   "cell_type": "code",
   "execution_count": 46,
   "id": "83b8183b",
   "metadata": {},
   "outputs": [],
   "source": [
    "# 4\n",
    "def check_no(x):\n",
    "    if x%2==0:\n",
    "        print(\"even number\")\n",
    "    else:\n",
    "        print(\"odd number\")"
   ]
  },
  {
   "cell_type": "code",
   "execution_count": 47,
   "id": "ec27ae79",
   "metadata": {},
   "outputs": [
    {
     "name": "stdout",
     "output_type": "stream",
     "text": [
      "enter any number = 25\n",
      "odd number\n"
     ]
    }
   ],
   "source": [
    "x=int(input(\"enter any number = \"))\n",
    "check_no(x)"
   ]
  },
  {
   "cell_type": "code",
   "execution_count": 3,
   "id": "a10a9be0",
   "metadata": {},
   "outputs": [],
   "source": [
    "# 5 \n",
    "def can_vote(age):\n",
    "    if age>18:\n",
    "        print(\"you can vote\")\n",
    "    else:\n",
    "        print(\"Sorry! you cannot vote\")"
   ]
  },
  {
   "cell_type": "code",
   "execution_count": 4,
   "id": "4ee72931",
   "metadata": {},
   "outputs": [
    {
     "name": "stdout",
     "output_type": "stream",
     "text": [
      "enter age = 12\n",
      "Sorry! you cannot vote\n"
     ]
    }
   ],
   "source": [
    "age=int(input(\"enter age = \"))\n",
    "can_vote(age)"
   ]
  },
  {
   "cell_type": "code",
   "execution_count": null,
   "id": "20b150c9",
   "metadata": {},
   "outputs": [],
   "source": [
    "# 6\n",
    "# ask user a number and number should lie in 1 to 10 \n",
    "def num():\n",
    "    for i in range(1,11):\n",
    "        a=int(input(\"enter any value = \"))\n",
    "        if a<11:\n",
    "            print(\"number lies in 1 to 10\")\n",
    "        else:\n",
    "            print(\"Doesn't lie in 1 to 10\")\n",
    "        "
   ]
  },
  {
   "cell_type": "code",
   "execution_count": null,
   "id": "d5fe61e3",
   "metadata": {},
   "outputs": [],
   "source": [
    "num()"
   ]
  },
  {
   "cell_type": "code",
   "execution_count": 63,
   "id": "b8a24004",
   "metadata": {},
   "outputs": [],
   "source": [
    "# 7\n",
    "# give grading out of 10 marks\n",
    "def check():\n",
    "        num=int(input(\"enter number = \"))\n",
    "        if num>8:\n",
    "                print(\"you have good marks\")\n",
    "        elif num<8 or num>=5:\n",
    "                print(\"good but can do better\")\n",
    "        else:\n",
    "                print(\"Do! Study\")"
   ]
  },
  {
   "cell_type": "code",
   "execution_count": 64,
   "id": "5883265e",
   "metadata": {},
   "outputs": [
    {
     "name": "stdout",
     "output_type": "stream",
     "text": [
      "enter number = 9\n",
      "you have good marks\n"
     ]
    }
   ],
   "source": [
    "check()"
   ]
  },
  {
   "cell_type": "code",
   "execution_count": 65,
   "id": "7e798380",
   "metadata": {},
   "outputs": [],
   "source": [
    "# 8\n",
    "def check(num):\n",
    "    if num>8:\n",
    "        print(\"you have good marks\")\n",
    "    else:\n",
    "        print(\"good but can do better\")"
   ]
  },
  {
   "cell_type": "code",
   "execution_count": 70,
   "id": "7c324e56",
   "metadata": {},
   "outputs": [
    {
     "name": "stdout",
     "output_type": "stream",
     "text": [
      "enter number = 7\n",
      "good but can do better\n"
     ]
    }
   ],
   "source": [
    "num=int(input(\"enter number = \"))\n",
    "check(num)"
   ]
  },
  {
   "cell_type": "code",
   "execution_count": 71,
   "id": "b23b4a13",
   "metadata": {},
   "outputs": [],
   "source": [
    "# 9 \n",
    "# print square of given number by user\n",
    "\n",
    "def square():\n",
    "    num=int(input(\"enter any number = \"))\n",
    "    x=num**2\n",
    "    print(x)\n",
    "    "
   ]
  },
  {
   "cell_type": "code",
   "execution_count": 74,
   "id": "87c148af",
   "metadata": {},
   "outputs": [
    {
     "name": "stdout",
     "output_type": "stream",
     "text": [
      "enter any number = 13\n",
      "169\n"
     ]
    }
   ],
   "source": [
    "square()"
   ]
  },
  {
   "cell_type": "code",
   "execution_count": 75,
   "id": "24f00148",
   "metadata": {},
   "outputs": [],
   "source": [
    "# 10\n",
    "# same above que \n",
    "# by second que\n",
    "\n",
    "def square(num):\n",
    "    x=num**2\n",
    "    print(x)"
   ]
  },
  {
   "cell_type": "code",
   "execution_count": 83,
   "id": "cd8cb96b",
   "metadata": {},
   "outputs": [
    {
     "name": "stdout",
     "output_type": "stream",
     "text": [
      "enter any no = 29\n",
      "841\n"
     ]
    }
   ],
   "source": [
    "num=int(input(\"enter any no = \"))\n",
    "square(num)"
   ]
  }
 ],
 "metadata": {
  "kernelspec": {
   "display_name": "Python 3 (ipykernel)",
   "language": "python",
   "name": "python3"
  },
  "language_info": {
   "codemirror_mode": {
    "name": "ipython",
    "version": 3
   },
   "file_extension": ".py",
   "mimetype": "text/x-python",
   "name": "python",
   "nbconvert_exporter": "python",
   "pygments_lexer": "ipython3",
   "version": "3.11.5"
  }
 },
 "nbformat": 4,
 "nbformat_minor": 5
}
