{
 "cells": [
  {
   "cell_type": "code",
   "execution_count": 1,
   "id": "4d94550e",
   "metadata": {},
   "outputs": [],
   "source": [
    "# list theory :\n",
    "# list : list are used to store multiple iteams in single variable\n",
    "# list are declared using square brackets:[]\n",
    "# In list we can store different types of Datatypes"
   ]
  },
  {
   "cell_type": "code",
   "execution_count": 3,
   "id": "4fe724c6",
   "metadata": {},
   "outputs": [
    {
     "data": {
      "text/plain": [
       "[1, 2, 3, 4, 5]"
      ]
     },
     "execution_count": 3,
     "metadata": {},
     "output_type": "execute_result"
    }
   ],
   "source": [
    "# operations in list\n",
    "# 1) creating a list:\n",
    "mylist=[1,2,3,4,5]\n",
    "mylist"
   ]
  },
  {
   "cell_type": "code",
   "execution_count": 4,
   "id": "de23672f",
   "metadata": {},
   "outputs": [
    {
     "data": {
      "text/plain": [
       "['anand', 'shrushti', 'srujan', 'dheeraj', 'shraddha']"
      ]
     },
     "execution_count": 4,
     "metadata": {},
     "output_type": "execute_result"
    }
   ],
   "source": [
    "# IN List: we can add,delete and change iteams in lists\n",
    "# 1) ADD:\n",
    "# a) append: add an element to the end of the list\n",
    "\n",
    "list=['anand','shrushti','srujan','dheeraj','shraddha']\n",
    "list\n",
    "    "
   ]
  },
  {
   "cell_type": "code",
   "execution_count": 1,
   "id": "75b9ea5d",
   "metadata": {},
   "outputs": [],
   "source": [
    "# b)insert:method to add an element at a specific position in list\n",
    "# c)extend:it add multiple elements at a time at end of the list"
   ]
  },
  {
   "cell_type": "code",
   "execution_count": 3,
   "id": "19920e68",
   "metadata": {},
   "outputs": [],
   "source": [
    "# 2) Remove\n",
    "\n",
    "# a) pop: function removes elements at a specific index from the list\n",
    "# b) remove: method removes a given element from the list\n",
    "# c) del: Del Keyword for Deleting Objects\n",
    "#    syntax: del object_name\n",
    "# d) clear:use to delete all items in the list"
   ]
  },
  {
   "cell_type": "code",
   "execution_count": 4,
   "id": "8beab037",
   "metadata": {},
   "outputs": [],
   "source": [
    "# Joins Lists:\n",
    "# 1) +: to join list + operator can be used\n",
    "# 2)extend():where the purpose is to add elements one list to another list"
   ]
  },
  {
   "cell_type": "code",
   "execution_count": null,
   "id": "cb9efac1",
   "metadata": {},
   "outputs": [],
   "source": [
    "# Reverse:\n",
    "# a) reverse(): is used to reverse the list"
   ]
  },
  {
   "cell_type": "code",
   "execution_count": null,
   "id": "8dda926a",
   "metadata": {},
   "outputs": [],
   "source": []
  }
 ],
 "metadata": {
  "kernelspec": {
   "display_name": "Python 3 (ipykernel)",
   "language": "python",
   "name": "python3"
  },
  "language_info": {
   "codemirror_mode": {
    "name": "ipython",
    "version": 3
   },
   "file_extension": ".py",
   "mimetype": "text/x-python",
   "name": "python",
   "nbconvert_exporter": "python",
   "pygments_lexer": "ipython3",
   "version": "3.11.5"
  }
 },
 "nbformat": 4,
 "nbformat_minor": 5
}
