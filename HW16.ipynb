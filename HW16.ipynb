{
 "cells": [
  {
   "cell_type": "code",
   "execution_count": 1,
   "id": "ae67392b",
   "metadata": {},
   "outputs": [],
   "source": [
    "#1\n",
    "## Write a Python program which accepts a sequence of comma-separated numbers from user and generate a list and a \n",
    "## tuple with those numbers"
   ]
  },
  {
   "cell_type": "code",
   "execution_count": 11,
   "id": "5e174950",
   "metadata": {},
   "outputs": [
    {
     "name": "stdout",
     "output_type": "stream",
     "text": [
      "please enter a  value : 1\n",
      "please enter a  value : 2\n",
      "please enter a  value : 3\n",
      "please enter a  value : 4\n",
      "('1', '2', '3', '4')\n",
      "['1', '2', '3', '4']\n"
     ]
    }
   ],
   "source": [
    "order = ['first', 'second', 'third', 'fourth'] # 4 values are to be accepted\n",
    "numbers = []  # the array to hold the list values\n",
    "num = (\"\", \"\", \"\", \"\") # a initiated  tuple to store the values\n",
    " \n",
    "\n",
    "for accord in order: \n",
    "    value = input(\"please enter a  value : \" ) # User enter value\n",
    "    numbers.append(value)\n",
    "num = tuple(numbers)\n",
    "\n",
    "print(num) # printing of the tuple does not work\n",
    "print(numbers) # printing of the list does work"
   ]
  },
  {
   "cell_type": "code",
   "execution_count": null,
   "id": "f2e79cc9",
   "metadata": {},
   "outputs": [],
   "source": [
    "#2\n",
    "# Write a Python program to display the first and last colors from the following list.\n",
    "# color_list = [\"Red\",\"Green\",\"White\" ,\"Black\"]"
   ]
  },
  {
   "cell_type": "code",
   "execution_count": 15,
   "id": "f3d898da",
   "metadata": {},
   "outputs": [
    {
     "name": "stdout",
     "output_type": "stream",
     "text": [
      "Red\n",
      "Black\n"
     ]
    }
   ],
   "source": [
    "color_list=[\"Red\",\"Green\",\"White\",\"Black\"]\n",
    "print(color_list[0])\n",
    "print(color_list[3])"
   ]
  },
  {
   "cell_type": "code",
   "execution_count": 16,
   "id": "6fae19d0",
   "metadata": {},
   "outputs": [],
   "source": [
    "#3\n",
    "# Write a Python program to calculate number of days between two dates.\n",
    "# Sample dates : (2014, 7, 2), (2014, 7, 11)"
   ]
  },
  {
   "cell_type": "code",
   "execution_count": 22,
   "id": "d8fc56ef",
   "metadata": {},
   "outputs": [
    {
     "name": "stdout",
     "output_type": "stream",
     "text": [
      "9 days\n"
     ]
    }
   ],
   "source": [
    "from datetime import date\n",
    "\n",
    "\n",
    "def days(date1, date2):\n",
    "    if date2 > date1: \n",
    "        return (date2-date1).days\n",
    "    else:\n",
    "        return (date1-date2).days\n",
    "    \n",
    "date1 = date(2014, 7, 2)\n",
    "date2 = date(2014, 7, 11)\n",
    "print(days(date1, date2), \"days\")\n"
   ]
  },
  {
   "cell_type": "code",
   "execution_count": 23,
   "id": "ebe680f4",
   "metadata": {},
   "outputs": [],
   "source": [
    "#4\n",
    "# Write a Python program to get the difference between a given number and 17,\n",
    "# if the number is greater than 17 return double the absolute difference"
   ]
  },
  {
   "cell_type": "code",
   "execution_count": 30,
   "id": "84b6ed4e",
   "metadata": {},
   "outputs": [
    {
     "name": "stdout",
     "output_type": "stream",
     "text": [
      "enter any number:40\n",
      "529\n"
     ]
    }
   ],
   "source": [
    "num=int(input(\"enter any number:\"))\n",
    "x=num-17\n",
    "if x>17:\n",
    "    print(x**2)\n",
    "else:\n",
    "    print(x)"
   ]
  },
  {
   "cell_type": "code",
   "execution_count": 31,
   "id": "c24183f3",
   "metadata": {},
   "outputs": [],
   "source": [
    "#5\n",
    "# To check whather given element exists in list or not??\n",
    "# list=[1,2,3,4,5,6,7,8,9,10]\n",
    "# check if 9 and 12 are present in given list or not"
   ]
  },
  {
   "cell_type": "code",
   "execution_count": 37,
   "id": "5eefa40e",
   "metadata": {},
   "outputs": [
    {
     "name": "stdout",
     "output_type": "stream",
     "text": [
      "9 is present in given list\n",
      "12 is not present in list\n"
     ]
    }
   ],
   "source": [
    "list=[1,2,3,4,5,6,7,8,9,10]\n",
    "if 9 in list:\n",
    "    print(\"9 is present in given list\")\n",
    "else:\n",
    "    print(\"not present\")\n",
    "    \n",
    "if 12 in list:\n",
    "    print(\"12 is present in list\")\n",
    "else:\n",
    "    print(\"12 is not present in list\")"
   ]
  },
  {
   "cell_type": "code",
   "execution_count": 38,
   "id": "3d073a02",
   "metadata": {},
   "outputs": [],
   "source": [
    "#6\n",
    "# Write a function calculation() such that it can accept two variables and calculate the addition and subtraction of it.\n",
    "# And also it must return both addition and subtraction in a single return call"
   ]
  },
  {
   "cell_type": "code",
   "execution_count": 53,
   "id": "101c9797",
   "metadata": {},
   "outputs": [
    {
     "name": "stdout",
     "output_type": "stream",
     "text": [
      "enter any number:22\n",
      "enter any number:10\n"
     ]
    },
    {
     "data": {
      "text/plain": [
       "(32, 12)"
      ]
     },
     "execution_count": 53,
     "metadata": {},
     "output_type": "execute_result"
    }
   ],
   "source": [
    "def calculation(x,y):\n",
    "    add=x+y\n",
    "    sub=x-y\n",
    "    return add,sub\n",
    "\n",
    "x=int(input(\"enter any number:\"))\n",
    "y=int(input(\"enter any number:\"))\n",
    "\n",
    "calculation(x,y)"
   ]
  },
  {
   "cell_type": "code",
   "execution_count": null,
   "id": "0727a02a",
   "metadata": {},
   "outputs": [],
   "source": [
    "#7\n",
    "# Create a function showEmployee() in such a way that it should accept employee name, \n",
    "# and it’s salary and display both,\n",
    "# and if the salary is missing in function call it should show it as 9000"
   ]
  },
  {
   "cell_type": "code",
   "execution_count": 54,
   "id": "51f1380e",
   "metadata": {},
   "outputs": [
    {
     "name": "stdout",
     "output_type": "stream",
     "text": [
      "enter your name:Anand Upesh Gandhamwar\n",
      "enter your salary:1000000\n"
     ]
    },
    {
     "data": {
      "text/plain": [
       "('Anand Upesh Gandhamwar', 1000000)"
      ]
     },
     "execution_count": 54,
     "metadata": {},
     "output_type": "execute_result"
    }
   ],
   "source": [
    "def showEmployee(name,salary):\n",
    "    return name,salary\n",
    "\n",
    "name=input(\"enter your name:\")\n",
    "salary=int(input(\"enter your salary:\"))\n",
    "if salary<0:\n",
    "    print(\"9000\")\n",
    "    \n",
    "showEmployee(name,salary)"
   ]
  },
  {
   "cell_type": "code",
   "execution_count": 55,
   "id": "dd5585dc",
   "metadata": {},
   "outputs": [],
   "source": [
    "#8\n",
    "# Write a recursive function to calculate the sum of numbers from 0 to 10"
   ]
  },
  {
   "cell_type": "code",
   "execution_count": 61,
   "id": "c6c859c3",
   "metadata": {},
   "outputs": [
    {
     "name": "stdout",
     "output_type": "stream",
     "text": [
      "Sum of numbers from 0 to 10: 55\n"
     ]
    }
   ],
   "source": [
    "def recursive_sum(n):\n",
    "    if n == 0:\n",
    "        return 0\n",
    "    else:\n",
    "        return n + recursive_sum(n - 1)\n",
    "\n",
    "result = recursive_sum(10)\n",
    "\n",
    "print(\"Sum of numbers from 0 to 10:\", result)\n"
   ]
  },
  {
   "cell_type": "code",
   "execution_count": 62,
   "id": "0eb5fcf3",
   "metadata": {},
   "outputs": [],
   "source": [
    "#9\n",
    "## Generate a Python list of all the even numbers between 4 to 30"
   ]
  },
  {
   "cell_type": "code",
   "execution_count": 65,
   "id": "0dc2b2f4",
   "metadata": {},
   "outputs": [
    {
     "name": "stdout",
     "output_type": "stream",
     "text": [
      "Even numbers between 4 and 30: [4, 6, 8, 10, 12, 14, 16, 18, 20, 22, 24, 26, 28, 30]\n"
     ]
    }
   ],
   "source": [
    "even_numbers = [num for num in range(4, 31) if num % 2 == 0]\n",
    "\n",
    "print(\"Even numbers between 4 and 30:\", even_numbers)"
   ]
  },
  {
   "cell_type": "code",
   "execution_count": 66,
   "id": "b37388d6",
   "metadata": {},
   "outputs": [],
   "source": [
    "#10\n",
    "# Return the largest item from the given list"
   ]
  },
  {
   "cell_type": "code",
   "execution_count": 70,
   "id": "44bcdb9e",
   "metadata": {},
   "outputs": [
    {
     "name": "stdout",
     "output_type": "stream",
     "text": [
      "largest element of list: 81\n"
     ]
    }
   ],
   "source": [
    "list=[1,44,27,81,36,4]\n",
    "list.sort()\n",
    "print(\"largest element of list:\",list[-1])"
   ]
  },
  {
   "cell_type": "code",
   "execution_count": null,
   "id": "b5d226ee",
   "metadata": {},
   "outputs": [],
   "source": []
  }
 ],
 "metadata": {
  "kernelspec": {
   "display_name": "Python 3 (ipykernel)",
   "language": "python",
   "name": "python3"
  },
  "language_info": {
   "codemirror_mode": {
    "name": "ipython",
    "version": 3
   },
   "file_extension": ".py",
   "mimetype": "text/x-python",
   "name": "python",
   "nbconvert_exporter": "python",
   "pygments_lexer": "ipython3",
   "version": "3.11.5"
  }
 },
 "nbformat": 4,
 "nbformat_minor": 5
}
