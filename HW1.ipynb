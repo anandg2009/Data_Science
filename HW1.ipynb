{
 "cells": [
  {
   "cell_type": "code",
   "execution_count": 1,
   "id": "78226b6a",
   "metadata": {},
   "outputs": [
    {
     "name": "stdout",
     "output_type": "stream",
     "text": [
      "value of a is : 5\n",
      "Perimeter of square is  20\n"
     ]
    }
   ],
   "source": [
    "# perimeter of square\n",
    "a=int(input(\"value of a is : \"))\n",
    "p= 4*a\n",
    "print(\"Perimeter of square is \",p)"
   ]
  },
  {
   "cell_type": "code",
   "execution_count": 2,
   "id": "c8e7ff2b",
   "metadata": {},
   "outputs": [
    {
     "name": "stdout",
     "output_type": "stream",
     "text": [
      "value of r3\n",
      "Circumference of Circle : 18.84\n"
     ]
    }
   ],
   "source": [
    "#Circumference of Circle\n",
    "r=int(input(\"value of r\"))\n",
    "c=2*3.14*r\n",
    "print(\"Circumference of Circle :\",c)"
   ]
  },
  {
   "cell_type": "code",
   "execution_count": 3,
   "id": "fff63f4d",
   "metadata": {},
   "outputs": [
    {
     "name": "stdout",
     "output_type": "stream",
     "text": [
      "enter value of r 7\n",
      "enter value of h 7\n",
      "volume of cone is  359.00666666666666\n"
     ]
    }
   ],
   "source": [
    "#Volume of a Cone = V = ⅓ × πr2h\n",
    "r=int(input(\"enter value of r \"))\n",
    "h=int(input(\"enter value of h \"))\n",
    "v= (1/3 )*3.14*r*r*h\n",
    "print(\"volume of cone is \",(v))"
   ]
  },
  {
   "cell_type": "code",
   "execution_count": 4,
   "id": "a5575a13",
   "metadata": {},
   "outputs": [
    {
     "name": "stdout",
     "output_type": "stream",
     "text": [
      "value of r 3\n",
      "Volume of a Sphere  12.559999999999999\n"
     ]
    }
   ],
   "source": [
    "#Volume of a Sphere = V = 4/3 × πr\n",
    "r=int(input(\"value of r \"))\n",
    "v= (4/3)*3.14*r\n",
    "print(\"Volume of a Sphere \",v)"
   ]
  },
  {
   "cell_type": "code",
   "execution_count": 5,
   "id": "6ee184d7",
   "metadata": {},
   "outputs": [
    {
     "name": "stdout",
     "output_type": "stream",
     "text": [
      "enter value of a 2\n",
      "enter value of b 3\n",
      "3.605551275463989\n"
     ]
    }
   ],
   "source": [
    "#Pythagorean Theorem\n",
    "import math\n",
    "a=int(input(\"enter value of a \"))\n",
    "b=int(input(\"enter value of b \"))\n",
    "c= math.sqrt(a**2+b**2)\n",
    "print(c)"
   ]
  },
  {
   "cell_type": "code",
   "execution_count": 7,
   "id": "c6393d06",
   "metadata": {},
   "outputs": [
    {
     "name": "stdout",
     "output_type": "stream",
     "text": [
      "enter value of x1 1\n",
      "enter value of x2 2\n",
      "enter value of y1 3\n",
      "enter value of y2 4\n",
      "1.4142135623730951\n"
     ]
    }
   ],
   "source": [
    "#Distance Formula\n",
    "x1=int(input(\"enter value of x1 \"))\n",
    "x2=int(input(\"enter value of x2 \"))\n",
    "y1=int(input(\"enter value of y1 \"))\n",
    "y2=int(input(\"enter value of y2 \"))\n",
    "c=math.sqrt((x2-x1)**2 + (y2-y1)**2)\n",
    "print(c)"
   ]
  },
  {
   "cell_type": "markdown",
   "id": "5b2f37e3",
   "metadata": {},
   "source": [
    "#Area of a Triangle\n",
    "b=int(input(\"enter value of b \"))\n",
    "h=int(input(\"enter value of h \"))\n",
    "a=(1/2)*(b*h)\n",
    "print(a)"
   ]
  },
  {
   "cell_type": "code",
   "execution_count": null,
   "id": "57ff23a3",
   "metadata": {},
   "outputs": [],
   "source": []
  }
 ],
 "metadata": {
  "kernelspec": {
   "display_name": "Python 3 (ipykernel)",
   "language": "python",
   "name": "python3"
  },
  "language_info": {
   "codemirror_mode": {
    "name": "ipython",
    "version": 3
   },
   "file_extension": ".py",
   "mimetype": "text/x-python",
   "name": "python",
   "nbconvert_exporter": "python",
   "pygments_lexer": "ipython3",
   "version": "3.11.5"
  }
 },
 "nbformat": 4,
 "nbformat_minor": 5
}
