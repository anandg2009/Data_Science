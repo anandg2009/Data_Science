{
 "cells": [
  {
   "cell_type": "code",
   "execution_count": 1,
   "id": "7a4946f9",
   "metadata": {},
   "outputs": [],
   "source": [
    "# exception handling"
   ]
  },
  {
   "cell_type": "code",
   "execution_count": 2,
   "id": "191c564c",
   "metadata": {},
   "outputs": [],
   "source": [
    "#1"
   ]
  },
  {
   "cell_type": "code",
   "execution_count": 18,
   "id": "c6d87a09",
   "metadata": {},
   "outputs": [
    {
     "ename": "ZeroDivisionError",
     "evalue": "division by zero",
     "output_type": "error",
     "traceback": [
      "\u001b[1;31m---------------------------------------------------------------------------\u001b[0m",
      "\u001b[1;31mZeroDivisionError\u001b[0m                         Traceback (most recent call last)",
      "Cell \u001b[1;32mIn[18], line 2\u001b[0m\n\u001b[0;32m      1\u001b[0m marks\u001b[38;5;241m=\u001b[39m\u001b[38;5;241m0\u001b[39m\n\u001b[1;32m----> 2\u001b[0m a\u001b[38;5;241m=\u001b[39mmarks\u001b[38;5;241m/\u001b[39m\u001b[38;5;241m0\u001b[39m\n\u001b[0;32m      3\u001b[0m \u001b[38;5;28mprint\u001b[39m(a)\n",
      "\u001b[1;31mZeroDivisionError\u001b[0m: division by zero"
     ]
    }
   ],
   "source": [
    "marks=0\n",
    "a=marks/0\n",
    "print(a)"
   ]
  },
  {
   "cell_type": "code",
   "execution_count": 19,
   "id": "0eeada35",
   "metadata": {},
   "outputs": [
    {
     "name": "stdout",
     "output_type": "stream",
     "text": [
      "we can divide any number by zero\n"
     ]
    }
   ],
   "source": [
    "#2\n",
    "try:\n",
    "    marks=0\n",
    "    a=marks/0\n",
    "    prinr(a)\n",
    "except:\n",
    "    print(\"we can divide any number by zero\")"
   ]
  },
  {
   "cell_type": "code",
   "execution_count": 20,
   "id": "1fa1132b",
   "metadata": {},
   "outputs": [],
   "source": [
    "#3\n"
   ]
  },
  {
   "cell_type": "code",
   "execution_count": 21,
   "id": "3a1f07ac",
   "metadata": {},
   "outputs": [
    {
     "name": "stdout",
     "output_type": "stream",
     "text": [
      "give proper indexing\n"
     ]
    }
   ],
   "source": [
    "try:\n",
    "    num=[1,2,3,4,5]\n",
    "    a=num[7]\n",
    "    print(a)\n",
    "except:\n",
    "    print(\"give proper indexing\")"
   ]
  },
  {
   "cell_type": "code",
   "execution_count": 45,
   "id": "62e959fa",
   "metadata": {},
   "outputs": [
    {
     "name": "stdout",
     "output_type": "stream",
     "text": [
      "it has two different datatypes it is type error\n"
     ]
    }
   ],
   "source": [
    "#4\n",
    "try:\n",
    "    x=5\n",
    "    y=\"hello\"\n",
    "    z=x+y\n",
    "except TypeError:\n",
    "    print(\"it has two different datatypes it is type error\")\n",
    "    "
   ]
  },
  {
   "cell_type": "code",
   "execution_count": 47,
   "id": "ab300de4",
   "metadata": {},
   "outputs": [],
   "source": [
    "#5\n",
    "try:\n",
    "    amount=1000\n",
    "    if amount>1000:\n",
    "        print(\"you are rich\")\n",
    "\n",
    "except syntaxError:\n",
    "    print(\"Give proper syntax\")"
   ]
  },
  {
   "cell_type": "code",
   "execution_count": 53,
   "id": "6183c394",
   "metadata": {},
   "outputs": [
    {
     "name": "stdout",
     "output_type": "stream",
     "text": [
      "error\n"
     ]
    }
   ],
   "source": [
    "#6\n",
    "a=[1,2,3,4]\n",
    "try:\n",
    "    print(\"Second Elemnet\",a[4])\n",
    "except:\n",
    "    print(\"error\")"
   ]
  },
  {
   "cell_type": "code",
   "execution_count": 54,
   "id": "c6a6018b",
   "metadata": {},
   "outputs": [
    {
     "name": "stdout",
     "output_type": "stream",
     "text": [
      "Cant divide by zero\n",
      "it is always excuted\n"
     ]
    }
   ],
   "source": [
    "#7\n",
    "try:\n",
    "    k=5/0\n",
    "    print(k)\n",
    "except ZeroDivisionError:\n",
    "    print(\"Cant divide by zero\")\n",
    "finally:\n",
    "    print(\"it is always excuted\")"
   ]
  },
  {
   "cell_type": "code",
   "execution_count": 63,
   "id": "2fc7a3f7",
   "metadata": {},
   "outputs": [
    {
     "name": "stdout",
     "output_type": "stream",
     "text": [
      "enter no = 2\n",
      "no is even\n"
     ]
    }
   ],
   "source": [
    "#8\n",
    "\n",
    "try:\n",
    "    num=int(input(\"enter no = \"))\n",
    "    if num%2==0:\n",
    "        print(\"no is even\")\n",
    "\n",
    "except ValueError:\n",
    "    print(\"Not an even number\")"
   ]
  },
  {
   "cell_type": "code",
   "execution_count": 65,
   "id": "9cf11130",
   "metadata": {},
   "outputs": [
    {
     "name": "stdout",
     "output_type": "stream",
     "text": [
      "enter any number= 31\n",
      "odd num\n"
     ]
    }
   ],
   "source": [
    "#9\n",
    "num=int(input(\"enter any number= \"))\n",
    "try:\n",
    "    if num%2!=0:\n",
    "        print(\"odd num\")\n",
    "except ValueError:\n",
    "    print(\"not an odd num\")"
   ]
  },
  {
   "cell_type": "code",
   "execution_count": 66,
   "id": "8ec3908b",
   "metadata": {},
   "outputs": [],
   "source": [
    "#10"
   ]
  },
  {
   "cell_type": "code",
   "execution_count": 70,
   "id": "aaf9af3a",
   "metadata": {},
   "outputs": [
    {
     "name": "stdout",
     "output_type": "stream",
     "text": [
      "enter your correct age:17\n",
      "wait one year to vote\n"
     ]
    }
   ],
   "source": [
    "try:\n",
    "    age=int(input(\"enter your correct age:\"))\n",
    "    if age>18:\n",
    "        print(\"you can vote\")\n",
    "    elif age==17:\n",
    "        print(\"wait one year to vote\")\n",
    "    else:\n",
    "        print(\"cannot vote\")\n",
    "except:\n",
    "    print(\"can't vote\")"
   ]
  },
  {
   "cell_type": "code",
   "execution_count": null,
   "id": "b583cfdc",
   "metadata": {},
   "outputs": [],
   "source": []
  }
 ],
 "metadata": {
  "kernelspec": {
   "display_name": "Python 3 (ipykernel)",
   "language": "python",
   "name": "python3"
  },
  "language_info": {
   "codemirror_mode": {
    "name": "ipython",
    "version": 3
   },
   "file_extension": ".py",
   "mimetype": "text/x-python",
   "name": "python",
   "nbconvert_exporter": "python",
   "pygments_lexer": "ipython3",
   "version": "3.11.5"
  }
 },
 "nbformat": 4,
 "nbformat_minor": 5
}
