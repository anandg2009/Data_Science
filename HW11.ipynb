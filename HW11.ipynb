{
 "cells": [
  {
   "cell_type": "code",
   "execution_count": 1,
   "id": "e9ca780e",
   "metadata": {},
   "outputs": [],
   "source": [
    "# lambda Function"
   ]
  },
  {
   "cell_type": "code",
   "execution_count": 5,
   "id": "3e2e9f1e",
   "metadata": {},
   "outputs": [
    {
     "name": "stdout",
     "output_type": "stream",
     "text": [
      "14\n"
     ]
    }
   ],
   "source": [
    "# craete lambda fun that add 10 to it input argument\n",
    "\n",
    "x=lambda a:a+10\n",
    "print(x(4))"
   ]
  },
  {
   "cell_type": "code",
   "execution_count": 8,
   "id": "6526fb89",
   "metadata": {},
   "outputs": [
    {
     "name": "stdout",
     "output_type": "stream",
     "text": [
      "18\n"
     ]
    }
   ],
   "source": [
    "#  create a lambda function that multiplies two arguments:\n",
    "x=lambda a,b:a*b\n",
    "print(x(2,9))"
   ]
  },
  {
   "cell_type": "code",
   "execution_count": 9,
   "id": "0b6361f2",
   "metadata": {},
   "outputs": [
    {
     "name": "stdout",
     "output_type": "stream",
     "text": [
      "6\n"
     ]
    }
   ],
   "source": [
    "# Here’s a lambda function that summarizes three arguments:\n",
    "a=lambda x,y,z:x+y+z\n",
    "print(a(1,2,3))"
   ]
  },
  {
   "cell_type": "code",
   "execution_count": 13,
   "id": "a2f944b1",
   "metadata": {
    "scrolled": true
   },
   "outputs": [
    {
     "name": "stdout",
     "output_type": "stream",
     "text": [
      "enetr any value = 9\n",
      "81.0\n"
     ]
    }
   ],
   "source": [
    "# print area of square using lambda dunction\n",
    "SA=lambda s:s**2\n",
    "s=float(input(\"enetr any value = \"))\n",
    "print(SA(s))"
   ]
  },
  {
   "cell_type": "code",
   "execution_count": 15,
   "id": "ab197d35",
   "metadata": {},
   "outputs": [
    {
     "name": "stdout",
     "output_type": "stream",
     "text": [
      "enter value of length = 3\n",
      "enter value of height = 4\n",
      "6.0\n"
     ]
    }
   ],
   "source": [
    "# print area of rhombus using lambda dunction\n",
    "RA=lambda le,ht:le*ht/2\n",
    "le=float(input(\"enter value of length = \"))\n",
    "ht=float(input(\"enter value of height = \"))\n",
    "print(RA(le,ht))"
   ]
  },
  {
   "cell_type": "code",
   "execution_count": 24,
   "id": "cdd06dce",
   "metadata": {},
   "outputs": [
    {
     "name": "stdout",
     "output_type": "stream",
     "text": [
      "22\n",
      "33\n"
     ]
    }
   ],
   "source": [
    "# create a function that always doubles or triples a given number:\n",
    "def myfun(n):\n",
    "    return lambda a:a*n\n",
    "mydouble = myfun(2)\n",
    "print(mydouble(11))\n",
    "\n",
    "mytriple = myfun(3)\n",
    "print(mytriple(11))"
   ]
  },
  {
   "cell_type": "code",
   "execution_count": 36,
   "id": "4570645b",
   "metadata": {},
   "outputs": [
    {
     "name": "stdout",
     "output_type": "stream",
     "text": [
      "Namasta anand\n"
     ]
    }
   ],
   "source": [
    "greet = lambda name: \"Namasta \" + name\n",
    "print(greet(\"anand\"))"
   ]
  },
  {
   "cell_type": "code",
   "execution_count": 49,
   "id": "a8dc0f67",
   "metadata": {},
   "outputs": [
    {
     "data": {
      "text/plain": [
       "7"
      ]
     },
     "execution_count": 49,
     "metadata": {},
     "output_type": "execute_result"
    }
   ],
   "source": [
    "def make_increment(n):\n",
    "    return lambda a:a+n\n",
    "x=make_increment(3)\n",
    "x(4)"
   ]
  },
  {
   "cell_type": "code",
   "execution_count": 50,
   "id": "eff621c4",
   "metadata": {},
   "outputs": [
    {
     "data": {
      "text/plain": [
       "11"
      ]
     },
     "execution_count": 50,
     "metadata": {},
     "output_type": "execute_result"
    }
   ],
   "source": [
    "x(8)"
   ]
  },
  {
   "cell_type": "code",
   "execution_count": 51,
   "id": "4aa1c861",
   "metadata": {},
   "outputs": [
    {
     "name": "stdout",
     "output_type": "stream",
     "text": [
      "even number \n"
     ]
    }
   ],
   "source": [
    "#9\n",
    "calc = lambda num:\"even number \" if num%2==0 else \"odd\"\n",
    "print(calc(42))"
   ]
  },
  {
   "cell_type": "code",
   "execution_count": 52,
   "id": "4898a47f",
   "metadata": {},
   "outputs": [
    {
     "name": "stdout",
     "output_type": "stream",
     "text": [
      "odd\n"
     ]
    }
   ],
   "source": [
    "print(calc(51))"
   ]
  },
  {
   "cell_type": "code",
   "execution_count": 62,
   "id": "e750d741",
   "metadata": {},
   "outputs": [
    {
     "name": "stdout",
     "output_type": "stream",
     "text": [
      "8.5\n"
     ]
    }
   ],
   "source": [
    "#10\n",
    "def avg(x, y):\n",
    "    return (x + y) / 2\n",
    "\n",
    "a = avg(8, 9)\n",
    "print(a)"
   ]
  },
  {
   "cell_type": "code",
   "execution_count": null,
   "id": "6fc58630",
   "metadata": {},
   "outputs": [],
   "source": []
  }
 ],
 "metadata": {
  "kernelspec": {
   "display_name": "Python 3 (ipykernel)",
   "language": "python",
   "name": "python3"
  },
  "language_info": {
   "codemirror_mode": {
    "name": "ipython",
    "version": 3
   },
   "file_extension": ".py",
   "mimetype": "text/x-python",
   "name": "python",
   "nbconvert_exporter": "python",
   "pygments_lexer": "ipython3",
   "version": "3.11.5"
  }
 },
 "nbformat": 4,
 "nbformat_minor": 5
}
