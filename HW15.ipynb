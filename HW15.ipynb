{
 "cells": [
  {
   "cell_type": "code",
   "execution_count": 8,
   "id": "1f7a3cb7",
   "metadata": {},
   "outputs": [],
   "source": [
    "#1\n",
    "# 1)Write a Python program to get the Python version you are using"
   ]
  },
  {
   "cell_type": "code",
   "execution_count": 13,
   "id": "e191abc4",
   "metadata": {},
   "outputs": [
    {
     "name": "stdout",
     "output_type": "stream",
     "text": [
      "Python version: 3.11.5 | packaged by Anaconda, Inc. | (main, Sep 11 2023, 13:26:23) [MSC v.1916 64 bit (AMD64)]\n"
     ]
    }
   ],
   "source": [
    "import sys\n",
    "\n",
    "def get_python_version():\n",
    "    return sys.version\n",
    "\n",
    "if __name__ == \"__main__\":\n",
    "    print(\"Python version:\", get_python_version())\n"
   ]
  },
  {
   "cell_type": "code",
   "execution_count": 14,
   "id": "837e9577",
   "metadata": {},
   "outputs": [],
   "source": [
    "#2\n",
    "## Write a Python program to display the current date and time"
   ]
  },
  {
   "cell_type": "code",
   "execution_count": 17,
   "id": "d0542312",
   "metadata": {},
   "outputs": [
    {
     "name": "stdout",
     "output_type": "stream",
     "text": [
      "2024-03-17 11:46:34.353201\n"
     ]
    }
   ],
   "source": [
    "import datetime\n",
    "x=datetime.datetime.now()\n",
    "print(x)"
   ]
  },
  {
   "cell_type": "code",
   "execution_count": 18,
   "id": "44a40953",
   "metadata": {},
   "outputs": [],
   "source": [
    "#3\n",
    "##  Write a Python program which accepts the radius of a circle from the user and compute the area."
   ]
  },
  {
   "cell_type": "code",
   "execution_count": 23,
   "id": "3663d39f",
   "metadata": {},
   "outputs": [
    {
     "name": "stdout",
     "output_type": "stream",
     "text": [
      "enter radius of circlr:2\n",
      "The area of circle is: 12.56\n"
     ]
    }
   ],
   "source": [
    "pi=3.14\n",
    "r=int(input(\"enter radius of circlr:\"))\n",
    "area=pi*r**2\n",
    "print(\"The area of circle is:\" ,area)"
   ]
  },
  {
   "cell_type": "code",
   "execution_count": 24,
   "id": "2d5ff8a1",
   "metadata": {},
   "outputs": [],
   "source": [
    "#4\n",
    "## 4)Solve the expression. 5.2 + True + bool(-5) - 4 + 42//5 +bool(0) + False + int(5.9) + float('1')"
   ]
  },
  {
   "cell_type": "code",
   "execution_count": 25,
   "id": "5ae880ce",
   "metadata": {},
   "outputs": [
    {
     "name": "stdout",
     "output_type": "stream",
     "text": [
      "17.2\n"
     ]
    }
   ],
   "source": [
    "result = 5.2 + True + bool(-5) - 4 + 42//5 + bool(0) + False + int(5.9) + float('1')\n",
    "print(result)"
   ]
  },
  {
   "cell_type": "code",
   "execution_count": 26,
   "id": "8577da78",
   "metadata": {},
   "outputs": [],
   "source": [
    "#5\n",
    "## Write code to test whether the given number lies between 1 and 10"
   ]
  },
  {
   "cell_type": "code",
   "execution_count": 48,
   "id": "c38e90b6",
   "metadata": {},
   "outputs": [
    {
     "name": "stdout",
     "output_type": "stream",
     "text": [
      "enter any number:7\n",
      "No lies in Between 1 to 10: 7\n"
     ]
    }
   ],
   "source": [
    "num=int(input(\"enter any number:\"))\n",
    "if num>=1 and num<=10:\n",
    "    print(\"No lies in Between 1 to 10:\",num)\n",
    "else:\n",
    "    print(\"doen't lie\")"
   ]
  },
  {
   "cell_type": "code",
   "execution_count": 44,
   "id": "9ef05997",
   "metadata": {},
   "outputs": [],
   "source": [
    "#6\n",
    "## sum the numbers from 1 to 20 using for loop"
   ]
  },
  {
   "cell_type": "code",
   "execution_count": 60,
   "id": "34f04c98",
   "metadata": {},
   "outputs": [
    {
     "name": "stdout",
     "output_type": "stream",
     "text": [
      "the sum of numbers from 1 to 20 is: 1\n",
      "the sum of numbers from 1 to 20 is: 3\n",
      "the sum of numbers from 1 to 20 is: 6\n",
      "the sum of numbers from 1 to 20 is: 10\n",
      "the sum of numbers from 1 to 20 is: 15\n",
      "the sum of numbers from 1 to 20 is: 21\n",
      "the sum of numbers from 1 to 20 is: 28\n",
      "the sum of numbers from 1 to 20 is: 36\n",
      "the sum of numbers from 1 to 20 is: 45\n",
      "the sum of numbers from 1 to 20 is: 55\n",
      "the sum of numbers from 1 to 20 is: 66\n",
      "the sum of numbers from 1 to 20 is: 78\n",
      "the sum of numbers from 1 to 20 is: 91\n",
      "the sum of numbers from 1 to 20 is: 105\n",
      "the sum of numbers from 1 to 20 is: 120\n",
      "the sum of numbers from 1 to 20 is: 136\n",
      "the sum of numbers from 1 to 20 is: 153\n",
      "the sum of numbers from 1 to 20 is: 171\n",
      "the sum of numbers from 1 to 20 is: 190\n",
      "the sum of numbers from 1 to 20 is: 210\n"
     ]
    }
   ],
   "source": [
    "total=0\n",
    "for i in range(1,21):\n",
    "    total+=i\n",
    "    print(\"the sum of numbers from 1 to 20 is:\",total)"
   ]
  },
  {
   "cell_type": "code",
   "execution_count": 61,
   "id": "1a5fd0f6",
   "metadata": {},
   "outputs": [],
   "source": [
    "# 7\n",
    "##Display the numbers in reverse from 100 to 1"
   ]
  },
  {
   "cell_type": "code",
   "execution_count": 78,
   "id": "25a3e818",
   "metadata": {},
   "outputs": [
    {
     "name": "stdout",
     "output_type": "stream",
     "text": [
      "100\n",
      "99\n",
      "98\n",
      "97\n",
      "96\n",
      "95\n",
      "94\n",
      "93\n",
      "92\n",
      "91\n",
      "90\n",
      "89\n",
      "88\n",
      "87\n",
      "86\n",
      "85\n",
      "84\n",
      "83\n",
      "82\n",
      "81\n",
      "80\n",
      "79\n",
      "78\n",
      "77\n",
      "76\n",
      "75\n",
      "74\n",
      "73\n",
      "72\n",
      "71\n",
      "70\n",
      "69\n",
      "68\n",
      "67\n",
      "66\n",
      "65\n",
      "64\n",
      "63\n",
      "62\n",
      "61\n",
      "60\n",
      "59\n",
      "58\n",
      "57\n",
      "56\n",
      "55\n",
      "54\n",
      "53\n",
      "52\n",
      "51\n",
      "50\n",
      "49\n",
      "48\n",
      "47\n",
      "46\n",
      "45\n",
      "44\n",
      "43\n",
      "42\n",
      "41\n",
      "40\n",
      "39\n",
      "38\n",
      "37\n",
      "36\n",
      "35\n",
      "34\n",
      "33\n",
      "32\n",
      "31\n",
      "30\n",
      "29\n",
      "28\n",
      "27\n",
      "26\n",
      "25\n",
      "24\n",
      "23\n",
      "22\n",
      "21\n",
      "20\n",
      "19\n",
      "18\n",
      "17\n",
      "16\n",
      "15\n",
      "14\n",
      "13\n",
      "12\n",
      "11\n",
      "10\n",
      "9\n",
      "8\n",
      "7\n",
      "6\n",
      "5\n",
      "4\n",
      "3\n",
      "2\n",
      "1\n"
     ]
    }
   ],
   "source": [
    "for i in range(100,0,-1):\n",
    "    print(i)"
   ]
  },
  {
   "cell_type": "code",
   "execution_count": 79,
   "id": "119533fc",
   "metadata": {},
   "outputs": [],
   "source": [
    "#8\n",
    "## Display multiples of 2 from 10 to 50 using range"
   ]
  },
  {
   "cell_type": "code",
   "execution_count": 82,
   "id": "92582c26",
   "metadata": {},
   "outputs": [
    {
     "name": "stdout",
     "output_type": "stream",
     "text": [
      "multiple of 2: 10\n",
      "multiple of 2: 12\n",
      "multiple of 2: 14\n",
      "multiple of 2: 16\n",
      "multiple of 2: 18\n",
      "multiple of 2: 20\n",
      "multiple of 2: 22\n",
      "multiple of 2: 24\n",
      "multiple of 2: 26\n",
      "multiple of 2: 28\n",
      "multiple of 2: 30\n",
      "multiple of 2: 32\n",
      "multiple of 2: 34\n",
      "multiple of 2: 36\n",
      "multiple of 2: 38\n",
      "multiple of 2: 40\n",
      "multiple of 2: 42\n",
      "multiple of 2: 44\n",
      "multiple of 2: 46\n",
      "multiple of 2: 48\n",
      "multiple of 2: 50\n"
     ]
    }
   ],
   "source": [
    "for num in range(10,51):\n",
    "    if num%2==0:\n",
    "        print(\"multiple of 2:\",num)"
   ]
  },
  {
   "cell_type": "code",
   "execution_count": 83,
   "id": "95062f0e",
   "metadata": {},
   "outputs": [],
   "source": [
    "#9\n",
    "# From the below nested dictionary, pick the word \"Bangalore\". \n",
    "# d = {'1':'One','2':[1,{'Two':['Ch','Cbe','Salem',{'Place':[5,6,7,'Bangalore']}]}]}"
   ]
  },
  {
   "cell_type": "code",
   "execution_count": 86,
   "id": "22b54c58",
   "metadata": {},
   "outputs": [
    {
     "name": "stdout",
     "output_type": "stream",
     "text": [
      "Bangalore\n"
     ]
    }
   ],
   "source": [
    "d = {'1':'One','2':[1,{'Two':['Ch','Cbe','Salem',{'Place':[5,6,7,'Bangalore']}]}]}\n",
    "word_bangalore = d['2'][1]['Two'][3]['Place'][3]\n",
    "print(word_bangalore)"
   ]
  },
  {
   "cell_type": "code",
   "execution_count": 90,
   "id": "d7280850",
   "metadata": {},
   "outputs": [],
   "source": [
    "#10\n",
    "## Use functions to return square of numbers from 2 to 5"
   ]
  },
  {
   "cell_type": "code",
   "execution_count": 97,
   "id": "766e67f5",
   "metadata": {},
   "outputs": [],
   "source": [
    "def square():\n",
    "    for i in range(2,6):\n",
    "        num=int(input(\"enter no form 2 to 5:\"))\n",
    "        print(num**2)"
   ]
  },
  {
   "cell_type": "code",
   "execution_count": 98,
   "id": "3008139e",
   "metadata": {},
   "outputs": [
    {
     "name": "stdout",
     "output_type": "stream",
     "text": [
      "enter no form 2 to 5:2\n",
      "4\n",
      "enter no form 2 to 5:3\n",
      "9\n",
      "enter no form 2 to 5:4\n",
      "16\n",
      "enter no form 2 to 5:5\n",
      "25\n"
     ]
    }
   ],
   "source": [
    "square()"
   ]
  },
  {
   "cell_type": "code",
   "execution_count": null,
   "id": "275ad706",
   "metadata": {},
   "outputs": [],
   "source": []
  },
  {
   "cell_type": "code",
   "execution_count": null,
   "id": "b31deea1",
   "metadata": {},
   "outputs": [],
   "source": []
  }
 ],
 "metadata": {
  "kernelspec": {
   "display_name": "Python 3 (ipykernel)",
   "language": "python",
   "name": "python3"
  },
  "language_info": {
   "codemirror_mode": {
    "name": "ipython",
    "version": 3
   },
   "file_extension": ".py",
   "mimetype": "text/x-python",
   "name": "python",
   "nbconvert_exporter": "python",
   "pygments_lexer": "ipython3",
   "version": "3.11.5"
  }
 },
 "nbformat": 4,
 "nbformat_minor": 5
}
