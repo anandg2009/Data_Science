{
 "cells": [
  {
   "cell_type": "code",
   "execution_count": 4,
   "id": "7a35387b",
   "metadata": {},
   "outputs": [
    {
     "name": "stdout",
     "output_type": "stream",
     "text": [
      "enter value of P 1\n",
      "enter value of R 2\n",
      "enter value of T 3\n",
      "0.06\n"
     ]
    }
   ],
   "source": [
    "#Simple Interest\n",
    "P=int(input(\"enter value of P \"))\n",
    "R=int(input(\"enter value of R \"))\n",
    "T=int(input(\"enter value of T \"))\n",
    "s=(P*R*T)/100\n",
    "print(s)"
   ]
  },
  {
   "cell_type": "code",
   "execution_count": 5,
   "id": "ff2dc698",
   "metadata": {},
   "outputs": [
    {
     "name": "stdout",
     "output_type": "stream",
     "text": [
      "enter value of Total_Debt40000\n",
      "enter value of Total_Equity4\n",
      "Debt_to_Equity_Ratio is 10000.0\n"
     ]
    }
   ],
   "source": [
    "#Debt_to_Equity_Ratio\n",
    "Total_Debt=int(input(\"enter value of Total_Debt\"))\n",
    "Total_Equity=int(input(\"enter value of Total_Equity\"))\n",
    "Debt_to_Equity_Ratio=Total_Debt/Total_Equity\n",
    "print(\"Debt_to_Equity_Ratio is\",Debt_to_Equity_Ratio)"
   ]
  },
  {
   "cell_type": "code",
   "execution_count": 6,
   "id": "3892f8d6",
   "metadata": {},
   "outputs": [
    {
     "name": "stdout",
     "output_type": "stream",
     "text": [
      "enter value of Operating_Income100\n",
      "enter value of revenue300000\n",
      "Operating_Margin_Percentage is  0.03333333333333333\n"
     ]
    }
   ],
   "source": [
    "#Operating_Margin_Percentage\n",
    "Operating_Income=int(input(\"enter value of Operating_Income\"))\n",
    "Revenue=int(input(\"enter value of revenue\"))\n",
    "Operating_Margin_Percentage=(Operating_Income/Revenue)*100\n",
    "print(\"Operating_Margin_Percentage is \",Operating_Margin_Percentage)"
   ]
  },
  {
   "cell_type": "code",
   "execution_count": 7,
   "id": "50282c51",
   "metadata": {},
   "outputs": [
    {
     "name": "stdout",
     "output_type": "stream",
     "text": [
      "enter value of revenue3000\n",
      "enter value of Cost_of_Goods_Sold 400\n",
      "Gross_Margin_Percentage is 86.66666666666667\n"
     ]
    }
   ],
   "source": [
    "#Gross_Margin_Percentage\n",
    "Revenue=int(input(\"enter value of revenue\"))\n",
    "Cost_of_Goods_Sold=int(input(\"enter value of Cost_of_Goods_Sold \"))\n",
    "Gross_Margin_Percentage=((Revenue-Cost_of_Goods_Sold)/Revenue)*100\n",
    "print(\"Gross_Margin_Percentage is\",Gross_Margin_Percentage)\n"
   ]
  },
  {
   "cell_type": "code",
   "execution_count": 8,
   "id": "5a2beeb7",
   "metadata": {},
   "outputs": [
    {
     "name": "stdout",
     "output_type": "stream",
     "text": [
      "enter value of cost_price30\n",
      "ente value of selling_price100\n",
      "Loss_Percentage is  -233.33333333333334\n"
     ]
    }
   ],
   "source": [
    "#loss\n",
    "cost_price = int(input(\"enter value of cost_price\"))\n",
    "selling_price = int(input(\"ente value of selling_price\"))\n",
    "Loss_Percentage=((cost_price-selling_price)/cost_price)*100\n",
    "print(\"Loss_Percentage is \",Loss_Percentage)"
   ]
  },
  {
   "cell_type": "code",
   "execution_count": 9,
   "id": "569eee28",
   "metadata": {},
   "outputs": [
    {
     "name": "stdout",
     "output_type": "stream",
     "text": [
      "enter value of cost_price10\n",
      "ente value of selling_price50\n",
      "Profit_Percentage is  400.0\n"
     ]
    }
   ],
   "source": [
    "#profit\n",
    "cost_price = int(input(\"enter value of cost_price\"))\n",
    "selling_price = int(input(\"ente value of selling_price\"))\n",
    "Profit_Percentage=((selling_price-cost_price)/cost_price)*100\n",
    "print(\"Profit_Percentage is \",Profit_Percentage)"
   ]
  },
  {
   "cell_type": "code",
   "execution_count": 10,
   "id": "cd9cf174",
   "metadata": {},
   "outputs": [
    {
     "name": "stdout",
     "output_type": "stream",
     "text": [
      "value of Dividend_per_Share is 20\n",
      "value of Market_Price_per_Share is 200\n",
      "Dividend Yield 10.0\n"
     ]
    }
   ],
   "source": [
    "#Dividend Yield=Dividend_per_Share / Market_Price_per_Share ×100\n",
    "Dividend_per_Share=int(input(\"value of Dividend_per_Share is \"))\n",
    "Market_Price_per_Share=int(input(\"value of Market_Price_per_Share is \"))\n",
    "DY=(Dividend_per_Share / Market_Price_per_Share)*100\n",
    "print(\"Dividend Yield\",DY)\n"
   ]
  },
  {
   "cell_type": "code",
   "execution_count": 11,
   "id": "da897e00",
   "metadata": {},
   "outputs": [
    {
     "name": "stdout",
     "output_type": "stream",
     "text": [
      "value of Market_Price_per_Share is 30\n",
      "value of Net_Income is 10\n",
      "value of Average_Outstanding_Shares is 5\n",
      "Price-Earnings Ratio 15.0\n"
     ]
    }
   ],
   "source": [
    "#Price-Earnings Ratio\n",
    "Market_Price_per_Share=int(input(\"value of Market_Price_per_Share is \"))\n",
    "Net_Income=int(input(\"value of Net_Income is \"))\n",
    "Average_Outstanding_Shares=int(input(\"value of Average_Outstanding_Shares is \"))\n",
    "EPS=Net_Income/Average_Outstanding_Shares\n",
    "PER=Market_Price_per_Share/EPS\n",
    "print(\"Price-Earnings Ratio\",PER)\n",
    " "
   ]
  },
  {
   "cell_type": "code",
   "execution_count": 12,
   "id": "3534e57b",
   "metadata": {},
   "outputs": [
    {
     "name": "stdout",
     "output_type": "stream",
     "text": [
      "value of Net_Income is 20000\n",
      "value of Average_Outstanding_Shares is 100\n",
      "Earnings Per Share  200.0\n"
     ]
    }
   ],
   "source": [
    "#Earnings Per Share \n",
    "Net_Income=int(input(\"value of Net_Income is \"))\n",
    "Average_Outstanding_Shares=int(input(\"value of Average_Outstanding_Shares is \"))\n",
    "EPS=Net_Income/Average_Outstanding_Shares\n",
    "print(\"Earnings Per Share \",EPS)\n"
   ]
  },
  {
   "cell_type": "code",
   "execution_count": 13,
   "id": "51ba954f",
   "metadata": {},
   "outputs": [
    {
     "name": "stdout",
     "output_type": "stream",
     "text": [
      "value of Net_profit is 100\n",
      "value of cost investment is400\n",
      "Return on Investment 25.0\n"
     ]
    }
   ],
   "source": [
    "#Return on Investment \n",
    "Net_profit=int(input(\"value of Net_profit is \"))\n",
    "Cost_of_investment=int(input(\"value of cost investment is\"))\n",
    "ROI=(Net_profit/Cost_of_investment)*100\n",
    "print(\"Return on Investment\",ROI)"
   ]
  },
  {
   "cell_type": "code",
   "execution_count": null,
   "id": "bf00b47a",
   "metadata": {},
   "outputs": [],
   "source": []
  }
 ],
 "metadata": {
  "kernelspec": {
   "display_name": "Python 3 (ipykernel)",
   "language": "python",
   "name": "python3"
  },
  "language_info": {
   "codemirror_mode": {
    "name": "ipython",
    "version": 3
   },
   "file_extension": ".py",
   "mimetype": "text/x-python",
   "name": "python",
   "nbconvert_exporter": "python",
   "pygments_lexer": "ipython3",
   "version": "3.11.5"
  }
 },
 "nbformat": 4,
 "nbformat_minor": 5
}
