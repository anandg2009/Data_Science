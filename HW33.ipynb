{
 "cells": [
  {
   "cell_type": "code",
   "execution_count": 1,
   "id": "3eb60b42-8148-40fa-987f-5515f23b6d07",
   "metadata": {},
   "outputs": [
    {
     "name": "stdout",
     "output_type": "stream",
     "text": [
      "The length of the list is: 5\n"
     ]
    }
   ],
   "source": [
    "#1\n",
    "# Define a function to count the number of elements in a list using recursion\n",
    "def count_elements_recursion(lst):\n",
    "\t# Base case: if the list is empty, return 0\n",
    "\tif not lst:\n",
    "\t\treturn 0\n",
    "\t# Recursive case: add 1 to the count of the remaining elements in the list\n",
    "\treturn 1 + count_elements_recursion(lst[1:])\n",
    "\n",
    "\n",
    "# Test the function with a sample list\n",
    "lst = [1, 2, 3, 4, 5]\n",
    "print(\"The length of the list is:\", count_elements_recursion(lst))\n",
    "\n",
    "# Output: The length of the list is: 5\n"
   ]
  },
  {
   "cell_type": "code",
   "execution_count": 2,
   "id": "20fc3924-2cfa-4e14-94dd-0d9dfcf2b9a1",
   "metadata": {},
   "outputs": [
    {
     "name": "stdout",
     "output_type": "stream",
     "text": [
      "5\n"
     ]
    }
   ],
   "source": [
    "#2\n",
    "# python code to find the length\n",
    "# of list using enumerate function\n",
    "list1 = [1, 4, 5, 7, 8]\n",
    "s = 0\n",
    "for i, a in enumerate(list1):\n",
    "\ts += 1\n",
    "print(s)\n"
   ]
  },
  {
   "cell_type": "code",
   "execution_count": 3,
   "id": "fdc416d1-ccfb-419d-b865-56ddba943ab4",
   "metadata": {},
   "outputs": [
    {
     "name": "stdout",
     "output_type": "stream",
     "text": [
      "Length of list using Counter() is: 5\n"
     ]
    }
   ],
   "source": [
    "#3\n",
    "from collections import Counter\n",
    "\n",
    "# Initializing list\n",
    "test_list = [1, 4, 5, 7, 8]\n",
    "\n",
    "# Finding length of list using Counter()\n",
    "list_len = sum(Counter(test_list).values())\n",
    "\n",
    "print(\"Length of list using Counter() is:\", list_len)\n",
    "# This code is contributed by Edula Vinay Kumar Reddy\n"
   ]
  },
  {
   "cell_type": "code",
   "execution_count": 5,
   "id": "5ea38a88-b060-4c85-be1e-6228a33509dc",
   "metadata": {},
   "outputs": [
    {
     "name": "stdout",
     "output_type": "stream",
     "text": [
      "4\n"
     ]
    }
   ],
   "source": [
    "#4\n",
    "def maximum(a, b):\n",
    "\t\n",
    "\tif a >= b:\n",
    "\t\treturn a\n",
    "\telse:\n",
    "\t\treturn b\n",
    "\t\n",
    "a = 2\n",
    "b = 4\n",
    "print(maximum(a, b))\n"
   ]
  },
  {
   "cell_type": "code",
   "execution_count": 6,
   "id": "cc9dac04-f034-4c55-8433-a34f75508e65",
   "metadata": {},
   "outputs": [
    {
     "name": "stdout",
     "output_type": "stream",
     "text": [
      "9\n"
     ]
    }
   ],
   "source": [
    "#5\n",
    "\n",
    "a = 8\n",
    "b = 9\n",
    "\n",
    "maximum = max(a, b)\n",
    "print(maximum)\n"
   ]
  },
  {
   "cell_type": "code",
   "execution_count": 8,
   "id": "310392f5-0a78-4e1d-948e-3f9f3a5e36be",
   "metadata": {},
   "outputs": [
    {
     "name": "stdout",
     "output_type": "stream",
     "text": [
      "53\n"
     ]
    }
   ],
   "source": [
    "#6\n",
    "# Python program to find the\n",
    "# maximum of two numbers\n",
    "\t\n",
    "# Driver code\n",
    "a = 20\n",
    "b = 53\n",
    "\n",
    "# Use of ternary operator\n",
    "print(a if a >= b else b)\n"
   ]
  },
  {
   "cell_type": "code",
   "execution_count": 10,
   "id": "5c3c86ca-543f-4f58-b0a5-8ef9c8170704",
   "metadata": {},
   "outputs": [
    {
     "name": "stdout",
     "output_type": "stream",
     "text": [
      "13 is a maximum number\n"
     ]
    }
   ],
   "source": [
    "#7\n",
    "# python code to find maximum of two numbers\n",
    "\n",
    "a=13;b=0\n",
    "maximum = lambda a,b:a if a > b else b\n",
    "print(f'{maximum(a,b)} is a maximum number')\n"
   ]
  },
  {
   "cell_type": "code",
   "execution_count": 11,
   "id": "39dcfca9-09ea-44eb-8e24-2ead51ebde56",
   "metadata": {},
   "outputs": [
    {
     "name": "stdout",
     "output_type": "stream",
     "text": [
      "4\n"
     ]
    }
   ],
   "source": [
    "#8\n",
    "a = 2\n",
    "b = 4\n",
    "x=[a,b]\n",
    "x.sort()\n",
    "print(x[-1])\n"
   ]
  },
  {
   "cell_type": "code",
   "execution_count": 12,
   "id": "564e3549-a75a-42b7-85c9-555036486ab7",
   "metadata": {},
   "outputs": [
    {
     "name": "stdout",
     "output_type": "stream",
     "text": [
      "8\n"
     ]
    }
   ],
   "source": [
    "#9\n",
    "def minimum(a, b):\n",
    "\t\n",
    "\tif a <= b:\n",
    "\t\treturn a\n",
    "\telse:\n",
    "\t\treturn b\n",
    "\t\n",
    "# Driver code\n",
    "a = 56\n",
    "b = 8\n",
    "print(minimum(a, b))\n"
   ]
  },
  {
   "cell_type": "code",
   "execution_count": 13,
   "id": "05614c4f-b4b2-4dff-adf4-8bb108c0c6a2",
   "metadata": {},
   "outputs": [
    {
     "name": "stdout",
     "output_type": "stream",
     "text": [
      "2\n"
     ]
    }
   ],
   "source": [
    "#10\n",
    "a = 2\n",
    "b = 4\n",
    "\n",
    "minimum = min(a, b)\n",
    "print(minimum)\n"
   ]
  },
  {
   "cell_type": "code",
   "execution_count": null,
   "id": "572b8e84-e895-4e0a-a0fc-ffc5242604fe",
   "metadata": {},
   "outputs": [],
   "source": []
  }
 ],
 "metadata": {
  "kernelspec": {
   "display_name": "Python 3 (ipykernel)",
   "language": "python",
   "name": "python3"
  },
  "language_info": {
   "codemirror_mode": {
    "name": "ipython",
    "version": 3
   },
   "file_extension": ".py",
   "mimetype": "text/x-python",
   "name": "python",
   "nbconvert_exporter": "python",
   "pygments_lexer": "ipython3",
   "version": "3.11.7"
  }
 },
 "nbformat": 4,
 "nbformat_minor": 5
}
