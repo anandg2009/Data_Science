{
 "cells": [
  {
   "cell_type": "code",
   "execution_count": 2,
   "id": "5480424e",
   "metadata": {},
   "outputs": [
    {
     "data": {
      "text/plain": [
       "[1, 2, 3, 4, 5]"
      ]
     },
     "execution_count": 2,
     "metadata": {},
     "output_type": "execute_result"
    }
   ],
   "source": [
    "#1\n",
    "def convert(l):\n",
    "    m=set(l)\n",
    "    n=list(m)\n",
    "    return n\n",
    "l=[1,2,3,3,3,3,4,5] \n",
    "convert(l)"
   ]
  },
  {
   "cell_type": "code",
   "execution_count": 3,
   "id": "36e88792",
   "metadata": {},
   "outputs": [
    {
     "name": "stdout",
     "output_type": "stream",
     "text": [
      "prime\n"
     ]
    }
   ],
   "source": [
    "#2\n",
    "\n",
    "def is_prime(num):\n",
    "    if num>1:\n",
    "        for i in range(num,int(num/2)+1):\n",
    "            if num%i==0:\n",
    "                print(\"not prime\")\n",
    "        else:\n",
    "            print(\"prime\")\n",
    "    else:\n",
    "        print('not prime') \n",
    "num=2\n",
    "is_prime(num)"
   ]
  },
  {
   "cell_type": "code",
   "execution_count": 4,
   "id": "1a1893e1",
   "metadata": {},
   "outputs": [
    {
     "name": "stdout",
     "output_type": "stream",
     "text": [
      "[2, 4, 6, 8]\n"
     ]
    }
   ],
   "source": [
    "#3\n",
    "def is_even(l):\n",
    "    even=[]\n",
    "    for i in l:\n",
    "        if i%2==0:\n",
    "            even.append(i)\n",
    "    print(even)\n",
    "           \n",
    "            \n",
    "l=[1, 2, 3, 4, 5, 6, 7, 8, 9]\n",
    "is_even(l)"
   ]
  },
  {
   "cell_type": "code",
   "execution_count": 5,
   "id": "07ed88ba",
   "metadata": {},
   "outputs": [
    {
     "name": "stdout",
     "output_type": "stream",
     "text": [
      "palindrome\n"
     ]
    }
   ],
   "source": [
    "#4\n",
    "\n",
    "def palindrome(num):\n",
    "   \n",
    "    \n",
    "    if num==num[::-1]:\n",
    "        print(\"palindrome\")\n",
    "    else:\n",
    "        print(\"not\")\n",
    "    \n",
    "num='121'\n",
    "palindrome(num)"
   ]
  },
  {
   "cell_type": "code",
   "execution_count": 8,
   "id": "33b6e2f6",
   "metadata": {},
   "outputs": [
    {
     "name": "stdout",
     "output_type": "stream",
     "text": [
      "      1 \n",
      "     1 1 \n",
      "    1 2 1 \n",
      "   1 3 3 1 \n",
      "  1 4 6 4 1 \n"
     ]
    }
   ],
   "source": [
    "#5\n",
    "\n",
    "\n",
    "from math import factorial\n",
    "\n",
    "n = 5\n",
    "for i in range(n):\n",
    "    for j in range(n-i+1):\n",
    "        print(end=\" \")\n",
    "    for j in range(i+1):\n",
    "        print(factorial(i)//(factorial(j)*factorial(i-j)), end=\" \")\n",
    "        \n",
    "    print()\n"
   ]
  },
  {
   "cell_type": "code",
   "execution_count": 9,
   "id": "3017ce4d",
   "metadata": {},
   "outputs": [
    {
     "name": "stdout",
     "output_type": "stream",
     "text": [
      "The given text is a pangram.\n"
     ]
    }
   ],
   "source": [
    "#6\n",
    "def is_pangram(s):\n",
    "    alphabet = set('abcdefghijklmnopqrstuvwxyz')\n",
    "    return set(s.lower()) >= alphabet\n",
    "\n",
    "\n",
    "text = \"The quick brown fox jumps over the lazy dog\"\n",
    "if is_pangram(text):\n",
    "    print(\"The given text is a pangram.\")\n",
    "else:\n",
    "    print(\"The given text is not a pangram.\")\n"
   ]
  },
  {
   "cell_type": "code",
   "execution_count": 10,
   "id": "8a5cd6a9",
   "metadata": {},
   "outputs": [
    {
     "name": "stdout",
     "output_type": "stream",
     "text": [
      "Enter hyphen-separated sequence of words: green-red-blue-pink-black\n",
      "Sorted hyphen-separated sequence: black-blue-green-pink-red\n"
     ]
    }
   ],
   "source": [
    "#7\n",
    "def sort_hyphen_separated_sequence(sequence):\n",
    "    \n",
    "    words = sequence.split('-')\n",
    "\n",
    "    \n",
    "    sorted_words = sorted(words)\n",
    "\n",
    "    \n",
    "    sorted_sequence = '-'.join(sorted_words)\n",
    "\n",
    "    return sorted_sequence\n",
    "\n",
    "\n",
    "sequence = input(\"Enter hyphen-separated sequence of words: \")\n",
    "\n",
    "\n",
    "sorted_sequence = sort_hyphen_separated_sequence(sequence)\n",
    "print(\"Sorted hyphen-separated sequence:\", sorted_sequence)\n"
   ]
  },
  {
   "cell_type": "code",
   "execution_count": 11,
   "id": "fb5e1b86",
   "metadata": {},
   "outputs": [
    {
     "name": "stdout",
     "output_type": "stream",
     "text": [
      "List of squares of numbers between 1 and 30:\n",
      "[1, 4, 9, 16, 25, 36, 49, 64, 81, 100, 121, 144, 169, 196, 225, 256, 289, 324, 361, 400, 441, 484, 529, 576, 625, 676, 729, 784, 841, 900]\n"
     ]
    }
   ],
   "source": [
    "#8\n",
    "def squares_list():\n",
    "  \n",
    "   \n",
    "    squares = [x ** 2 for x in range(1, 31)]\n",
    "\n",
    "\n",
    "    print(\"List of squares of numbers between 1 and 30:\")\n",
    "    print(squares)\n",
    "\n",
    "\n",
    "squares_list()\n"
   ]
  },
  {
   "cell_type": "code",
   "execution_count": 12,
   "id": "c4608235",
   "metadata": {},
   "outputs": [
    {
     "name": "stdout",
     "output_type": "stream",
     "text": [
      "Hello, World\n"
     ]
    }
   ],
   "source": [
    "#9\n",
    "# String containing Python code\n",
    "python_code = '''\n",
    "def greet(name):\n",
    "    print(\"Hello,\", name)\n",
    "\n",
    "greet(\"World\")\n",
    "'''\n",
    "\n",
    "# Execute the string containing Python code\n",
    "exec(python_code)\n"
   ]
  },
  {
   "cell_type": "code",
   "execution_count": null,
   "id": "82ca7304",
   "metadata": {},
   "outputs": [],
   "source": []
  }
 ],
 "metadata": {
  "kernelspec": {
   "display_name": "Python 3 (ipykernel)",
   "language": "python",
   "name": "python3"
  },
  "language_info": {
   "codemirror_mode": {
    "name": "ipython",
    "version": 3
   },
   "file_extension": ".py",
   "mimetype": "text/x-python",
   "name": "python",
   "nbconvert_exporter": "python",
   "pygments_lexer": "ipython3",
   "version": "3.11.5"
  }
 },
 "nbformat": 4,
 "nbformat_minor": 5
}
