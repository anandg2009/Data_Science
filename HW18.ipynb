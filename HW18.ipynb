{
 "cells": [
  {
   "cell_type": "code",
   "execution_count": 1,
   "id": "6e8561cf",
   "metadata": {},
   "outputs": [],
   "source": [
    "#1\n",
    "# Python Program to find sum of array"
   ]
  },
  {
   "cell_type": "code",
   "execution_count": 14,
   "id": "736d2c8a",
   "metadata": {},
   "outputs": [
    {
     "name": "stdout",
     "output_type": "stream",
     "text": [
      "sum of array is: 38\n"
     ]
    }
   ],
   "source": [
    "def sumofarray(arr):\n",
    "    total=0\n",
    "    for i in arr:\n",
    "        total+=i\n",
    "    return total\n",
    "\n",
    "if __name__==\"__main__\":\n",
    "    arr=[18,4,2,14]\n",
    "    ans=sum(arr)\n",
    "    print(f\"sum of array is:\", ans)"
   ]
  },
  {
   "cell_type": "code",
   "execution_count": 15,
   "id": "8c787823",
   "metadata": {},
   "outputs": [],
   "source": [
    "#2\n",
    "# Write a program to create, concatenate and print a string and\n",
    "# accessing sub-string from a given string"
   ]
  },
  {
   "cell_type": "code",
   "execution_count": 18,
   "id": "033082ee",
   "metadata": {},
   "outputs": [
    {
     "name": "stdout",
     "output_type": "stream",
     "text": [
      "enter: Python\n",
      "substring of string is: Py\n"
     ]
    }
   ],
   "source": [
    "x=str(input(\"enter: \"))\n",
    "print(\"substring of string is:\", x[0:2])"
   ]
  },
  {
   "cell_type": "code",
   "execution_count": 19,
   "id": "58477a29",
   "metadata": {},
   "outputs": [],
   "source": [
    "#3\n",
    "# create and explain working of tuple"
   ]
  },
  {
   "cell_type": "code",
   "execution_count": 27,
   "id": "24771936",
   "metadata": {},
   "outputs": [
    {
     "name": "stdout",
     "output_type": "stream",
     "text": [
      "(1, 2, 3, 'Namasta', True)\n",
      "1\n",
      "(3, 'Namasta', True)\n",
      "Nama\n"
     ]
    }
   ],
   "source": [
    "#  A tuple is a collection of values that are ordered and immutable\n",
    "tuple=(1,2,3,\"Namasta\",True)\n",
    "\n",
    "print(tuple)\n",
    "print(tuple[0])\n",
    "print(tuple[2:5])\n",
    "print(tuple[3][0:4])"
   ]
  },
  {
   "cell_type": "code",
   "execution_count": 28,
   "id": "03d4f8b5",
   "metadata": {},
   "outputs": [],
   "source": [
    "#4\n",
    "# Write a python program to find largest of three numbers."
   ]
  },
  {
   "cell_type": "code",
   "execution_count": 38,
   "id": "e46d03b0",
   "metadata": {},
   "outputs": [
    {
     "name": "stdout",
     "output_type": "stream",
     "text": [
      "enter num1:1.6\n",
      "enter num2:7.3\n",
      "enter num3:12\n",
      "num3 is highest of 3: 12.0\n"
     ]
    }
   ],
   "source": [
    "num1=float(input(\"enter num1:\"))\n",
    "num2=float(input(\"enter num2:\"))\n",
    "num3=float(input(\"enter num3:\"))\n",
    "if num1>num2 and num1>num3:\n",
    "    print(\"num1 is highest of 3:\",num1)\n",
    "elif num2>num1 and num2>num3:\n",
    "    print(\"num2 is highest of 3:\",num2)\n",
    "elif num3>num1 and num3>num2:\n",
    "    print(\"num3 is highest of 3:\",num3)\n",
    "else:\n",
    "    print(\"nothing\")"
   ]
  },
  {
   "cell_type": "code",
   "execution_count": 39,
   "id": "110fbb35",
   "metadata": {},
   "outputs": [],
   "source": [
    "#5\n",
    "# Write a Python program to convert temperatures to and from Celsius,\n",
    "# Fahrenheit. [ Formula: c = (f-32)(5/9)]"
   ]
  },
  {
   "cell_type": "code",
   "execution_count": 51,
   "id": "de6b4533",
   "metadata": {},
   "outputs": [
    {
     "name": "stdout",
     "output_type": "stream",
     "text": [
      "enter temperature:22\n",
      "enter unit:C\n",
      "temp in fahrenheit is 71.6\n"
     ]
    }
   ],
   "source": [
    "temp= float(input(\"enter temperature:\"))\n",
    "unit=input(\"enter unit:\")\n",
    "if unit==\"c\" or unit==\"C\":\n",
    "    newtemp=9/5*temp+32\n",
    "    print(\"temp in fahrenheit is\", newtemp)\n",
    "elif unit==\"f\" or unit==\"F\":\n",
    "    newtemp=5/9*temp+32\n",
    "    print(\"temp in celsius is:\",newtemp)\n",
    "else:\n",
    "    print(\"unkown unit is been passed\")"
   ]
  },
  {
   "cell_type": "code",
   "execution_count": 4,
   "id": "1e85c7f7",
   "metadata": {},
   "outputs": [],
   "source": [
    "#6\n",
    "# Write a python a progarm to construct the following,using nested for loop\n",
    "# *\n",
    "# * *\n",
    "# * * *\n",
    "# * * * *\n",
    "# * * * * *\n",
    "# * * * *\n",
    "# * * *\n",
    "# * *\n",
    "# *"
   ]
  },
  {
   "cell_type": "code",
   "execution_count": 14,
   "id": "db5a7b48",
   "metadata": {},
   "outputs": [
    {
     "name": "stdout",
     "output_type": "stream",
     "text": [
      " * \n",
      " *  * \n",
      " *  *  * \n",
      " *  *  *  * \n",
      " *  *  *  *  * \n",
      " *  *  *  * \n",
      " *  *  * \n",
      " *  * \n",
      " * \n"
     ]
    }
   ],
   "source": [
    "max=5\n",
    "for i in range(1,5):\n",
    "    print(\" * \" *i)\n",
    "for j in range(5,0,-1):\n",
    "    print(\" * \" *j)"
   ]
  },
  {
   "cell_type": "code",
   "execution_count": 15,
   "id": "a896454e",
   "metadata": {},
   "outputs": [],
   "source": [
    "#7\n",
    "# Write a program that accepts the lengths of three sides of a triangle\n",
    "# as inputs. The program output should indicate whether or not the triangle\n",
    "# is a right triangle (Recall from the Pythagorean Theorem that in a right\n",
    "# triangle, the square of one side equals the sum of the squares of the\n",
    "# other two sides)."
   ]
  },
  {
   "cell_type": "code",
   "execution_count": 20,
   "id": "d4ce210f",
   "metadata": {},
   "outputs": [
    {
     "name": "stdout",
     "output_type": "stream",
     "text": [
      "enter len1: 3\n",
      "enter len2: 4\n",
      "enter len3: 5\n",
      "It is right angle triangle\n"
     ]
    }
   ],
   "source": [
    "a=int(input(\"enter len1: \"))\n",
    "b=int(input(\"enter len2: \"))\n",
    "c=int(input(\"enter len3: \"))\n",
    "if c**2==a**2+b**2:\n",
    "    print(\"It is right angle triangle\")\n",
    "else:\n",
    "    print(\"It is not\")\n"
   ]
  },
  {
   "cell_type": "code",
   "execution_count": 21,
   "id": "1df25c81",
   "metadata": {},
   "outputs": [],
   "source": [
    "#8\n",
    "# Given a range of the first 10 numbers, Iterate from the start number \n",
    "# to the end number, and In each iteration print the sum of the current number and previous number"
   ]
  },
  {
   "cell_type": "code",
   "execution_count": 29,
   "id": "f7023255",
   "metadata": {},
   "outputs": [
    {
     "name": "stdout",
     "output_type": "stream",
     "text": [
      "current num is:  0 previous num is:  0\n",
      "current num is:  1 previous num is:  1\n",
      "current num is:  2 previous num is:  3\n",
      "current num is:  3 previous num is:  5\n",
      "current num is:  4 previous num is:  7\n",
      "current num is:  5 previous num is:  9\n",
      "current num is:  6 previous num is:  11\n",
      "current num is:  7 previous num is:  13\n",
      "current num is:  8 previous num is:  15\n",
      "current num is:  9 previous num is:  17\n"
     ]
    }
   ],
   "source": [
    "def sumofnum(num):\n",
    "    previousnum=0\n",
    "    for i in range(num):\n",
    "        sum=previousnum+i\n",
    "        print(\"current num is: \",i,\"previous num is: \",sum)\n",
    "        previousnum=i\n",
    "sumofnum(10)"
   ]
  },
  {
   "cell_type": "code",
   "execution_count": 31,
   "id": "0aac662a",
   "metadata": {},
   "outputs": [],
   "source": [
    "#9\n",
    "# Given a string, display only those characters which are present at an even index number"
   ]
  },
  {
   "cell_type": "code",
   "execution_count": 32,
   "id": "a56405fb",
   "metadata": {},
   "outputs": [
    {
     "name": "stdout",
     "output_type": "stream",
     "text": [
      "enter any string:python\n",
      "p\n",
      "t\n",
      "o\n"
     ]
    }
   ],
   "source": [
    "string=\"Python\"\n",
    "print(string[0])\n",
    "print(string[2])\n",
    "print(string[4])"
   ]
  },
  {
   "cell_type": "code",
   "execution_count": 38,
   "id": "4be06d5d",
   "metadata": {},
   "outputs": [
    {
     "name": "stdout",
     "output_type": "stream",
     "text": [
      "original string is Python\n",
      "index[i] P\n",
      "index[i] t\n",
      "index[i] o\n"
     ]
    }
   ],
   "source": [
    "def printEvenIndex(str):\n",
    "    for i in range(0,len(str)-1,2):\n",
    "        print(\"index[i]\",str[i])\n",
    "inputStr=\"Python\"\n",
    "print(\"original string is\",inputStr)\n",
    "\n",
    "printEvenIndex(inputStr)"
   ]
  },
  {
   "cell_type": "code",
   "execution_count": 39,
   "id": "64662e33",
   "metadata": {},
   "outputs": [],
   "source": [
    "#10\n",
    "# Return the count of sub-string \"Python\" appears in given string"
   ]
  },
  {
   "cell_type": "code",
   "execution_count": 41,
   "id": "ef6d3949",
   "metadata": {},
   "outputs": [
    {
     "name": "stdout",
     "output_type": "stream",
     "text": [
      "2\n"
     ]
    }
   ],
   "source": [
    "str=\"Python is easy to use language. Python is use in data science\" \n",
    "x=str.count(\"Python\")\n",
    "print(x)"
   ]
  },
  {
   "cell_type": "code",
   "execution_count": null,
   "id": "5ff40990",
   "metadata": {},
   "outputs": [],
   "source": []
  }
 ],
 "metadata": {
  "kernelspec": {
   "display_name": "Python 3 (ipykernel)",
   "language": "python",
   "name": "python3"
  },
  "language_info": {
   "codemirror_mode": {
    "name": "ipython",
    "version": 3
   },
   "file_extension": ".py",
   "mimetype": "text/x-python",
   "name": "python",
   "nbconvert_exporter": "python",
   "pygments_lexer": "ipython3",
   "version": "3.11.5"
  }
 },
 "nbformat": 4,
 "nbformat_minor": 5
}
