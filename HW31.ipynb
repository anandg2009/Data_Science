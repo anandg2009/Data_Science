{
 "cells": [
  {
   "cell_type": "code",
   "execution_count": 1,
   "id": "6fa7512d-bebc-415d-a558-6fa42cce87c9",
   "metadata": {},
   "outputs": [
    {
     "name": "stdout",
     "output_type": "stream",
     "text": [
      "[24, 35, 9, 56, 12]\n"
     ]
    }
   ],
   "source": [
    "# Python3 program to swap first\n",
    "# and last element of a list\n",
    "\n",
    "# Swap function\n",
    "def swapList(newList):\n",
    "\tsize = len(newList)\n",
    "\t\n",
    "\t# Swapping \n",
    "\ttemp = newList[0]\n",
    "\tnewList[0] = newList[size - 1]\n",
    "\tnewList[size - 1] = temp\n",
    "\t\n",
    "\treturn newList\n",
    "\t\n",
    "# Driver code\n",
    "newList = [12, 35, 9, 56, 24]\n",
    "\n",
    "print(swapList(newList))\n"
   ]
  },
  {
   "cell_type": "code",
   "execution_count": 2,
   "id": "7fd38c49-eef2-41ee-9e8f-43f839381793",
   "metadata": {},
   "outputs": [
    {
     "name": "stdout",
     "output_type": "stream",
     "text": [
      "[24, 35, 9, 56, 12]\n"
     ]
    }
   ],
   "source": [
    "# Python3 program to swap first\n",
    "# and last element of a list\n",
    "\n",
    "# Swap function\n",
    "def swapList(newList):\n",
    "\t\n",
    "\tnewList[0], newList[-1] = newList[-1], newList[0]\n",
    "\n",
    "\treturn newList\n",
    "\t\n",
    "# Driver code\n",
    "newList = [12, 35, 9, 56, 24]\n",
    "print(swapList(newList))\n"
   ]
  },
  {
   "cell_type": "code",
   "execution_count": 3,
   "id": "24034d3e-a059-49d5-af26-3aedcdb7cd1d",
   "metadata": {},
   "outputs": [
    {
     "name": "stdout",
     "output_type": "stream",
     "text": [
      "[24, 35, 9, 56, 12]\n"
     ]
    }
   ],
   "source": [
    "# Python3 program to swap first\n",
    "# and last element of a list\n",
    "\n",
    "# Swap function\n",
    "def swapList(list):\n",
    "\t\n",
    "\t# Storing the first and last element \n",
    "\t# as a pair in a tuple variable get\n",
    "\tget = list[-1], list[0]\n",
    "\t\n",
    "\t# unpacking those elements\n",
    "\tlist[0], list[-1] = get\n",
    "\t\n",
    "\treturn list\n",
    "\t\n",
    "# Driver code\n",
    "newList = [12, 35, 9, 56, 24]\n",
    "print(swapList(newList))\n"
   ]
  },
  {
   "cell_type": "code",
   "execution_count": 4,
   "id": "e876ac70-1fcb-47f5-8e74-5e39f0295f3d",
   "metadata": {},
   "outputs": [
    {
     "name": "stdout",
     "output_type": "stream",
     "text": [
      "1\n",
      "[2, 3]\n",
      "4\n"
     ]
    }
   ],
   "source": [
    "# Python3 program to illustrate \n",
    "# the usage of * operand\n",
    "list = [1, 2, 3, 4]\n",
    "\n",
    "a, *b, c = list\n",
    "\n",
    "print(a)\n",
    "print(b)\n",
    "print(c)\n"
   ]
  },
  {
   "cell_type": "code",
   "execution_count": 5,
   "id": "5094ed1f-a818-476e-b987-b2c1b6cc8b7a",
   "metadata": {},
   "outputs": [
    {
     "name": "stdout",
     "output_type": "stream",
     "text": [
      "[24, 35, 9, 56, 12]\n"
     ]
    }
   ],
   "source": [
    "# Python3 program to swap first\n",
    "# and last element of a list\n",
    "\n",
    "# Swap function\n",
    "def swapList(list):\n",
    "\t\n",
    "\tstart, *middle, end = list\n",
    "\tlist = [end, *middle, start]\n",
    "\t\n",
    "\treturn list\n",
    "\t\n",
    "# Driver code\n",
    "newList = [12, 35, 9, 56, 24]\n",
    "\n",
    "print(swapList(newList))\n"
   ]
  },
  {
   "cell_type": "code",
   "execution_count": 6,
   "id": "3e78e626-78cb-4fc2-ab32-9a23662e2454",
   "metadata": {},
   "outputs": [
    {
     "name": "stdout",
     "output_type": "stream",
     "text": [
      "[24, 35, 9, 56, 12]\n"
     ]
    }
   ],
   "source": [
    "# Python3 program to swap first\n",
    "# and last element of a list\n",
    "\n",
    "# Swap function\n",
    "def swapList(list):\n",
    "\t\n",
    "\tfirst = list.pop(0) \n",
    "\tlast = list.pop(-1)\n",
    "\t\n",
    "\tlist.insert(0, last) \n",
    "\tlist.append(first) \n",
    "\t\n",
    "\treturn list\n",
    "\t\n",
    "# Driver code\n",
    "newList = [12, 35, 9, 56, 24]\n",
    "\n",
    "print(swapList(newList))\n"
   ]
  },
  {
   "cell_type": "code",
   "execution_count": 7,
   "id": "70dd09f2-8b2f-413b-a69d-d1359c8519bd",
   "metadata": {},
   "outputs": [
    {
     "name": "stdout",
     "output_type": "stream",
     "text": [
      "The original input is: [12, 35, 9, 56, 24]\n",
      "The output after swap first and last is: [24, 35, 9, 56, 12]\n"
     ]
    }
   ],
   "source": [
    "def swap_first_last_3(lst):\n",
    "\t# Check if list has at least 2 elements\n",
    "\tif len(lst) >= 2:\n",
    "\t\t# Swap the first and last elements using slicing\n",
    "\t\tlst = lst[-1:] + lst[1:-1] + lst[:1]\n",
    "\treturn lst\n",
    "\n",
    "# Initializing the input\n",
    "inp=[12, 35, 9, 56, 24]\n",
    "\n",
    "# Printing the original input\n",
    "print(\"The original input is:\",inp)\n",
    "\n",
    "result=swap_first_last_3(inp)\n",
    "\n",
    "# Printing the result\n",
    "print(\"The output after swap first and last is:\",result)\n"
   ]
  },
  {
   "cell_type": "code",
   "execution_count": 8,
   "id": "bcbf7c13-c390-42d7-8f26-bebaf81555c2",
   "metadata": {},
   "outputs": [
    {
     "name": "stdout",
     "output_type": "stream",
     "text": [
      "[19, 65, 23, 90]\n"
     ]
    }
   ],
   "source": [
    "# Python3 program to swap elements\n",
    "# at given positions\n",
    "\n",
    "# Swap function\n",
    "def swapPositions(list, pos1, pos2):\n",
    "\t\n",
    "\tlist[pos1], list[pos2] = list[pos2], list[pos1]\n",
    "\treturn list\n",
    "\n",
    "# Driver function\n",
    "List = [23, 65, 19, 90]\n",
    "pos1, pos2 = 1, 3\n",
    "\n",
    "print(swapPositions(List, pos1-1, pos2-1))\n"
   ]
  },
  {
   "cell_type": "code",
   "execution_count": 9,
   "id": "279c9514-2115-4e44-ba25-cef0a0ef0455",
   "metadata": {},
   "outputs": [
    {
     "name": "stdout",
     "output_type": "stream",
     "text": [
      "[19, 65, 23, 90]\n"
     ]
    }
   ],
   "source": [
    "# Python3 program to swap elements\n",
    "# at given positions\n",
    "\n",
    "# Swap function\n",
    "def swapPositions(list, pos1, pos2):\n",
    "\t\n",
    "\t# popping both the elements from list\n",
    "\tfirst_ele = list.pop(pos1) \n",
    "\tsecond_ele = list.pop(pos2-1)\n",
    "\t\n",
    "\t# inserting in each others positions\n",
    "\tlist.insert(pos1, second_ele) \n",
    "\tlist.insert(pos2, first_ele) \n",
    "\t\n",
    "\treturn list\n",
    "\n",
    "# Driver function\n",
    "List = [23, 65, 19, 90]\n",
    "pos1, pos2 = 1, 3\n",
    "\n",
    "print(swapPositions(List, pos1-1, pos2-1))\n"
   ]
  },
  {
   "cell_type": "code",
   "execution_count": 10,
   "id": "2bbb8879-aa6c-43f0-a929-40a95f5a7a35",
   "metadata": {},
   "outputs": [
    {
     "name": "stdout",
     "output_type": "stream",
     "text": [
      "[19, 65, 23, 90]\n"
     ]
    }
   ],
   "source": [
    "# Python3 program to swap elements at\n",
    "# given positions\n",
    "\n",
    "# Swap function\n",
    "def swapPositions(list, pos1, pos2):\n",
    "\n",
    "\t# Storing the two elements\n",
    "\t# as a pair in a tuple variable get\n",
    "\tget = list[pos1], list[pos2]\n",
    "\t\n",
    "\t# unpacking those elements\n",
    "\tlist[pos2], list[pos1] = get\n",
    "\t\n",
    "\treturn list\n",
    "\n",
    "# Driver Code\n",
    "List = [23, 65, 19, 90]\n",
    "\n",
    "pos1, pos2 = 1, 3\n",
    "print(swapPositions(List, pos1-1, pos2-1))\n"
   ]
  },
  {
   "cell_type": "code",
   "execution_count": null,
   "id": "0dab0fce-f22c-42cf-b533-c7f68b621032",
   "metadata": {},
   "outputs": [],
   "source": []
  }
 ],
 "metadata": {
  "kernelspec": {
   "display_name": "Python 3 (ipykernel)",
   "language": "python",
   "name": "python3"
  },
  "language_info": {
   "codemirror_mode": {
    "name": "ipython",
    "version": 3
   },
   "file_extension": ".py",
   "mimetype": "text/x-python",
   "name": "python",
   "nbconvert_exporter": "python",
   "pygments_lexer": "ipython3",
   "version": "3.11.7"
  }
 },
 "nbformat": 4,
 "nbformat_minor": 5
}
