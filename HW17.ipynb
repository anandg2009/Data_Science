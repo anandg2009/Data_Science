{
 "cells": [
  {
   "cell_type": "code",
   "execution_count": 7,
   "id": "842241c5",
   "metadata": {},
   "outputs": [],
   "source": [
    "#1\n",
    "# Write a Python program to print the following string in a specific format (see the output). \n",
    "# Sample String : \"Twinkle, twinkle, little star, How I wonder what you are! Up above the world so high, \n",
    "# Like a diamond in the sky. \n",
    "# Twinkle, twinkle, little star, How I wonder what you are\""
   ]
  },
  {
   "cell_type": "code",
   "execution_count": 21,
   "id": "1744123c",
   "metadata": {},
   "outputs": [
    {
     "name": "stdout",
     "output_type": "stream",
     "text": [
      "Twinkle, twinkle, little star, How I wonder what you are! Up above the world so hinh, \n",
      "\tLike a diamond in the sky.Twinkle, twinkle, little star, How I wonder what you are\n"
     ]
    }
   ],
   "source": [
    "x=(\"Twinkle, twinkle, little star, How I wonder what you are! Up above the world so hinh, \\n\\tLike a diamond in the sky.Twinkle, twinkle, little star, How I wonder what you are\")\n",
    "print(x)"
   ]
  },
  {
   "cell_type": "code",
   "execution_count": 22,
   "id": "fb61516e",
   "metadata": {},
   "outputs": [],
   "source": [
    "#2\n",
    "# Write a Python program to get the Python version you are using"
   ]
  },
  {
   "cell_type": "code",
   "execution_count": 23,
   "id": "b475bf07",
   "metadata": {},
   "outputs": [
    {
     "name": "stdout",
     "output_type": "stream",
     "text": [
      "pytho.version\n",
      "3.11.5 | packaged by Anaconda, Inc. | (main, Sep 11 2023, 13:26:23) [MSC v.1916 64 bit (AMD64)]\n",
      "version_info\n",
      "sys.version_info(major=3, minor=11, micro=5, releaselevel='final', serial=0)\n"
     ]
    }
   ],
   "source": [
    "import sys\n",
    "print(\"pytho.version\")\n",
    "print(sys.version)\n",
    "\n",
    "print(\"version_info\")\n",
    "print(sys.version_info)"
   ]
  },
  {
   "cell_type": "code",
   "execution_count": 24,
   "id": "1bddd09d",
   "metadata": {},
   "outputs": [],
   "source": [
    "#3\n",
    "# Write a Python program to display the current date and time."
   ]
  },
  {
   "cell_type": "code",
   "execution_count": 28,
   "id": "92ed9a54",
   "metadata": {},
   "outputs": [
    {
     "name": "stdout",
     "output_type": "stream",
     "text": [
      "Current Date And Time is: 2024-03-20 11:39:44.945316\n"
     ]
    }
   ],
   "source": [
    "import datetime\n",
    "now=datetime.datetime.now()\n",
    "print(\"Current Date And Time is:\",now)"
   ]
  },
  {
   "cell_type": "code",
   "execution_count": 26,
   "id": "4edec1ab",
   "metadata": {},
   "outputs": [],
   "source": [
    "#4\n",
    "# Write a Python program which accepts the radius of a circle from the user and compute the area"
   ]
  },
  {
   "cell_type": "code",
   "execution_count": 35,
   "id": "164e825f",
   "metadata": {},
   "outputs": [
    {
     "name": "stdout",
     "output_type": "stream",
     "text": [
      "enter value for radius of circle:4\n",
      "50.24\n"
     ]
    }
   ],
   "source": [
    "pi=3.14\n",
    "r=float(input(\"enter value for radius of circle:\"))\n",
    "area=pi*r**2\n",
    "print(area)"
   ]
  },
  {
   "cell_type": "code",
   "execution_count": 37,
   "id": "b79e5874",
   "metadata": {},
   "outputs": [
    {
     "name": "stdout",
     "output_type": "stream",
     "text": [
      "enter radius of circle:4\n"
     ]
    },
    {
     "data": {
      "text/plain": [
       "50.24"
      ]
     },
     "execution_count": 37,
     "metadata": {},
     "output_type": "execute_result"
    }
   ],
   "source": [
    "def areaofcircle():\n",
    "    r=float(input('enter radius of circle:'))\n",
    "    area=pi*r*r\n",
    "    return area\n",
    "\n",
    "areaofcircle()"
   ]
  },
  {
   "cell_type": "code",
   "execution_count": 38,
   "id": "c65c2ea7",
   "metadata": {},
   "outputs": [],
   "source": [
    "#5\n",
    "# Write a Python program which accepts the user's first and last name and print them in reverse order with a space between them."
   ]
  },
  {
   "cell_type": "code",
   "execution_count": 77,
   "id": "5a4e33d9",
   "metadata": {},
   "outputs": [
    {
     "name": "stdout",
     "output_type": "stream",
     "text": [
      " enter your first name:abhinav\n",
      "enter your last name:navalkar\n"
     ]
    },
    {
     "data": {
      "text/plain": [
       "(['v', 'a', 'n', 'i', 'h', 'b', 'a'], ['r', 'a', 'k', 'l', 'a', 'v', 'a', 'n'])"
      ]
     },
     "execution_count": 77,
     "metadata": {},
     "output_type": "execute_result"
    }
   ],
   "source": [
    "def split1(a,b):\n",
    "    d=list(a)\n",
    "    c=list(b)\n",
    "    return  d[::-1],c[::-1]\n",
    "\n",
    "\n",
    "a=input(\" enter your first name:\")\n",
    "b=input(\"enter your last name:\")\n",
    "\n",
    "split1(a,b)\n",
    "\n",
    "\n",
    "\n"
   ]
  },
  {
   "cell_type": "code",
   "execution_count": null,
   "id": "2d89b15b",
   "metadata": {},
   "outputs": [],
   "source": []
  },
  {
   "cell_type": "code",
   "execution_count": 82,
   "id": "002f0654",
   "metadata": {},
   "outputs": [
    {
     "name": "stdout",
     "output_type": "stream",
     "text": [
      "enter number:anand\n",
      "['a', 'n', 'a', 'n', 'd']\n"
     ]
    }
   ],
   "source": [
    "#6\n",
    "# Write a Python program which accepts a sequence of comma-separated numbers from user and generate a list with those numbers\n",
    "\n",
    "lst=input(\"enter number:\")\n",
    "l1=list(lst)\n",
    "\n",
    "list1=l1\n",
    "print(list1)\n"
   ]
  },
  {
   "cell_type": "code",
   "execution_count": 13,
   "id": "5fd58c17",
   "metadata": {},
   "outputs": [
    {
     "name": "stdout",
     "output_type": "stream",
     "text": [
      "enter file name: Python\n",
      "The extension of the file is: [1]\n"
     ]
    }
   ],
   "source": [
    "#7 :Write a Python program to accept a filename from the user and print the extension of that\n",
    "\n",
    "file_name=input(\"enter file name: \")\n",
    "file_part=file_name.split(\".\")\n",
    "print(\"The extension of the file is:\",[1])"
   ]
  },
  {
   "cell_type": "code",
   "execution_count": 14,
   "id": "c58bb610",
   "metadata": {},
   "outputs": [],
   "source": [
    "#8\n",
    "# Write a Python program to display the first and last colors from the following \n",
    "# list color_list = [\"yellow\",\"Green\",\"grey\" ,\"orange\"]"
   ]
  },
  {
   "cell_type": "code",
   "execution_count": 18,
   "id": "2d2e81be",
   "metadata": {},
   "outputs": [
    {
     "name": "stdout",
     "output_type": "stream",
     "text": [
      "yellow\n",
      "orange\n"
     ]
    }
   ],
   "source": [
    "color_list=[\"yellow\",\"Green\",\"grey\",\"orange\"]\n",
    "print(color_list[0])\n",
    "print(color_list[3])"
   ]
  },
  {
   "cell_type": "code",
   "execution_count": 27,
   "id": "5d2b15d7",
   "metadata": {},
   "outputs": [],
   "source": [
    "#9\n",
    "# Write a Python program that accepts an integer (n) and computes the value of n+nn+nnn"
   ]
  },
  {
   "cell_type": "code",
   "execution_count": 47,
   "id": "410658b8",
   "metadata": {},
   "outputs": [
    {
     "name": "stdout",
     "output_type": "stream",
     "text": [
      "enter any number:12\n",
      "12 24 36\n"
     ]
    }
   ],
   "source": [
    "num=int(input(\"enter any number:\"))\n",
    "x=num*2\n",
    "y=num*3\n",
    "print(num,x,y)\n",
    "# print(x)\n",
    "# print(y)"
   ]
  },
  {
   "cell_type": "code",
   "execution_count": 48,
   "id": "ec9bd486",
   "metadata": {},
   "outputs": [
    {
     "name": "stdout",
     "output_type": "stream",
     "text": [
      "enter a number: 12\n",
      "122436\n"
     ]
    }
   ],
   "source": [
    "a = input(\"enter a number: \")\n",
    "sum = int(a) + int(a+a) + int(a+a+a)\n",
    "print(sum)"
   ]
  },
  {
   "cell_type": "code",
   "execution_count": 49,
   "id": "3324834e",
   "metadata": {},
   "outputs": [],
   "source": [
    "#10\n",
    "#Write a program to demonstrate different number data types in Python."
   ]
  },
  {
   "cell_type": "code",
   "execution_count": 53,
   "id": "af014866",
   "metadata": {},
   "outputs": [
    {
     "name": "stdout",
     "output_type": "stream",
     "text": [
      "DataType of a is:  <class 'str'>\n",
      "DataType of b is:  <class 'int'>\n",
      "DataType of c is:  <class 'float'>\n",
      "DataType of d is:  <class 'bool'>\n"
     ]
    }
   ],
   "source": [
    "a=\"Python\"\n",
    "b=60\n",
    "c=4.2\n",
    "d=True\n",
    "print(\"DataType of a is: \",type(a))\n",
    "print(\"DataType of b is: \",type(b))\n",
    "print(\"DataType of c is: \",type(c))\n",
    "print(\"DataType of d is: \",type(d))"
   ]
  },
  {
   "cell_type": "code",
   "execution_count": null,
   "id": "b3accd52",
   "metadata": {},
   "outputs": [],
   "source": []
  }
 ],
 "metadata": {
  "kernelspec": {
   "display_name": "Python 3 (ipykernel)",
   "language": "python",
   "name": "python3"
  },
  "language_info": {
   "codemirror_mode": {
    "name": "ipython",
    "version": 3
   },
   "file_extension": ".py",
   "mimetype": "text/x-python",
   "name": "python",
   "nbconvert_exporter": "python",
   "pygments_lexer": "ipython3",
   "version": "3.11.5"
  }
 },
 "nbformat": 4,
 "nbformat_minor": 5
}
