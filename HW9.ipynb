{
 "cells": [
  {
   "cell_type": "code",
   "execution_count": 1,
   "id": "9351b624",
   "metadata": {},
   "outputs": [],
   "source": [
    "# Set Questions : 10"
   ]
  },
  {
   "cell_type": "code",
   "execution_count": 2,
   "id": "e1e61d4c",
   "metadata": {},
   "outputs": [
    {
     "data": {
      "text/plain": [
       "{30, 40, 50}"
      ]
     },
     "execution_count": 2,
     "metadata": {},
     "output_type": "execute_result"
    }
   ],
   "source": [
    "#Return a new set of identical items from two sets\n",
    "\n",
    "set1 = {10, 20, 30, 40, 50}\n",
    "set2 = {30, 40, 50, 60, 70}\n",
    "set1.intersection(set2)"
   ]
  },
  {
   "cell_type": "code",
   "execution_count": 3,
   "id": "03ed7b5f",
   "metadata": {},
   "outputs": [
    {
     "data": {
      "text/plain": [
       "{10, 20, 30, 40, 50, 60, 70}"
      ]
     },
     "execution_count": 3,
     "metadata": {},
     "output_type": "execute_result"
    }
   ],
   "source": [
    "#Get Only unique items from two sets\n",
    "\n",
    "set1 = {10, 20, 30, 40, 50}\n",
    "set2 = {30, 40, 50, 60, 70}\n",
    "set1.union(set2)"
   ]
  },
  {
   "cell_type": "code",
   "execution_count": 4,
   "id": "9bb1e5ba",
   "metadata": {},
   "outputs": [
    {
     "data": {
      "text/plain": [
       "{10, 30}"
      ]
     },
     "execution_count": 4,
     "metadata": {},
     "output_type": "execute_result"
    }
   ],
   "source": [
    "# Update the first set with items that don’t exist in the second set\n",
    "set1 = {10, 20, 30}\n",
    "set2 = {20, 40, 50}\n",
    "set1.difference(set2)"
   ]
  },
  {
   "cell_type": "code",
   "execution_count": 11,
   "id": "6edb9a6f",
   "metadata": {},
   "outputs": [
    {
     "data": {
      "text/plain": [
       "{40, 50}"
      ]
     },
     "execution_count": 11,
     "metadata": {},
     "output_type": "execute_result"
    }
   ],
   "source": [
    "#Remove items from the set at once\n",
    "set1 = {10, 20, 30, 40, 50}\n",
    "set1.difference_update({10,20,30})\n",
    "set1"
   ]
  },
  {
   "cell_type": "code",
   "execution_count": 14,
   "id": "f99d2e60",
   "metadata": {},
   "outputs": [
    {
     "data": {
      "text/plain": [
       "True"
      ]
     },
     "execution_count": 14,
     "metadata": {},
     "output_type": "execute_result"
    }
   ],
   "source": [
    "# show that disha is in string or not\n",
    "set={1,4,5,7,'shraddha','disha',(2.66,6,44),56}\n",
    "\"disha\" in set"
   ]
  },
  {
   "cell_type": "code",
   "execution_count": 16,
   "id": "bf19ad80",
   "metadata": {},
   "outputs": [
    {
     "data": {
      "text/plain": [
       "False"
      ]
     },
     "execution_count": 16,
     "metadata": {},
     "output_type": "execute_result"
    }
   ],
   "source": [
    "# if yes then output should be false\n",
    "set={1,4,5,7,'shraddha','disha',(2.66,6,44),56}\n",
    "\"disha\" not in set"
   ]
  },
  {
   "cell_type": "code",
   "execution_count": 17,
   "id": "5e26d9b9",
   "metadata": {},
   "outputs": [
    {
     "data": {
      "text/plain": [
       "8"
      ]
     },
     "execution_count": 17,
     "metadata": {},
     "output_type": "execute_result"
    }
   ],
   "source": [
    "#print len of set\n",
    "set={1,4,5,7,'shraddha','disha',(2.66,6,44),56,5,1}\n",
    "len(set)"
   ]
  },
  {
   "cell_type": "code",
   "execution_count": 20,
   "id": "87b40de7",
   "metadata": {},
   "outputs": [
    {
     "data": {
      "text/plain": [
       "{30, 40, 50}"
      ]
     },
     "execution_count": 20,
     "metadata": {},
     "output_type": "execute_result"
    }
   ],
   "source": [
    "# Remove items from set1 that are not common to both set1 and set2\n",
    "\n",
    "set1 = {10, 20, 30, 40, 50}\n",
    "set2 = {30, 40, 50, 60, 70}\n",
    "set1.intersection_update(set2)\n",
    "set1"
   ]
  },
  {
   "cell_type": "code",
   "execution_count": 22,
   "id": "b9ab06a5",
   "metadata": {},
   "outputs": [
    {
     "data": {
      "text/plain": [
       "{(2.66, 6, 44), 1, 25, 3, 34, 5, 56, 6, 'anand', 'chetan', 'shrushti'}"
      ]
     },
     "execution_count": 22,
     "metadata": {},
     "output_type": "execute_result"
    }
   ],
   "source": [
    "#Write a Python program to add member(s) to a set.\n",
    "s1={34,6,3,25,'anand','shrushti',(2.66,6,44),56,5,1}\n",
    "s1.add('chetan')\n",
    "s1"
   ]
  },
  {
   "cell_type": "code",
   "execution_count": 24,
   "id": "455ab88d",
   "metadata": {},
   "outputs": [
    {
     "data": {
      "text/plain": [
       "set()"
      ]
     },
     "execution_count": 24,
     "metadata": {},
     "output_type": "execute_result"
    }
   ],
   "source": [
    "# Write a Python program to remove all elements from a given set.\n",
    "s1={34,6,3,25,'anand','shrushti',(2.66,6,44),56,5,1}\n",
    "s1.clear()\n",
    "s1"
   ]
  },
  {
   "cell_type": "code",
   "execution_count": 29,
   "id": "6fcf7b3d",
   "metadata": {},
   "outputs": [
    {
     "data": {
      "text/plain": [
       "90"
      ]
     },
     "execution_count": 29,
     "metadata": {},
     "output_type": "execute_result"
    }
   ],
   "source": [
    "# print max and min\n",
    "set={1,88,4,90,2,71}\n",
    "max(set)"
   ]
  },
  {
   "cell_type": "code",
   "execution_count": 30,
   "id": "931fb793",
   "metadata": {},
   "outputs": [
    {
     "data": {
      "text/plain": [
       "1"
      ]
     },
     "execution_count": 30,
     "metadata": {},
     "output_type": "execute_result"
    }
   ],
   "source": [
    "min(set)"
   ]
  },
  {
   "cell_type": "code",
   "execution_count": null,
   "id": "90610650",
   "metadata": {},
   "outputs": [],
   "source": []
  }
 ],
 "metadata": {
  "kernelspec": {
   "display_name": "Python 3 (ipykernel)",
   "language": "python",
   "name": "python3"
  },
  "language_info": {
   "codemirror_mode": {
    "name": "ipython",
    "version": 3
   },
   "file_extension": ".py",
   "mimetype": "text/x-python",
   "name": "python",
   "nbconvert_exporter": "python",
   "pygments_lexer": "ipython3",
   "version": "3.11.5"
  }
 },
 "nbformat": 4,
 "nbformat_minor": 5
}
