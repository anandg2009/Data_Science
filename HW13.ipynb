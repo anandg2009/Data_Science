{
 "cells": [
  {
   "cell_type": "code",
   "execution_count": null,
   "id": "9b67d339",
   "metadata": {},
   "outputs": [],
   "source": [
    "# exception handling"
   ]
  },
  {
   "cell_type": "code",
   "execution_count": 2,
   "id": "f2f36245",
   "metadata": {},
   "outputs": [],
   "source": [
    "import camelcase"
   ]
  },
  {
   "cell_type": "code",
   "execution_count": 3,
   "id": "92487c52",
   "metadata": {},
   "outputs": [
    {
     "name": "stdout",
     "output_type": "stream",
     "text": [
      "Hello World!\n"
     ]
    }
   ],
   "source": [
    "#1\n",
    "c= camelcase.CamelCase()\n",
    "print(c.hump(\"hello world!\"))"
   ]
  },
  {
   "cell_type": "code",
   "execution_count": 4,
   "id": "7bcbc700",
   "metadata": {},
   "outputs": [],
   "source": [
    "import re"
   ]
  },
  {
   "cell_type": "code",
   "execution_count": 5,
   "id": "47844462",
   "metadata": {},
   "outputs": [
    {
     "name": "stdout",
     "output_type": "stream",
     "text": [
      "<re.Match object; span=(0, 26), match='The rain is going in India'>\n"
     ]
    }
   ],
   "source": [
    "#2\n",
    "import re\n",
    "text = \"The rain is going in India\"\n",
    "x=re.search(\"^The.*India$\",text)\n",
    "print(x)"
   ]
  },
  {
   "cell_type": "code",
   "execution_count": 18,
   "id": "23860a83",
   "metadata": {},
   "outputs": [
    {
     "name": "stdout",
     "output_type": "stream",
     "text": [
      "['in', 'in', 'in']\n"
     ]
    }
   ],
   "source": [
    "#3\n",
    "import re\n",
    "text=\"The rain is going in India\"\n",
    "x=re.findall(\"in\",text)\n",
    "print(x)"
   ]
  },
  {
   "cell_type": "code",
   "execution_count": 27,
   "id": "2a9c766f",
   "metadata": {},
   "outputs": [
    {
     "name": "stdout",
     "output_type": "stream",
     "text": [
      "[]\n"
     ]
    }
   ],
   "source": [
    "#4\n",
    "import re\n",
    "text=\"The rain is going in India\"\n",
    "x=re.findall(\"nepal\",text)\n",
    "print(x)"
   ]
  },
  {
   "cell_type": "code",
   "execution_count": 28,
   "id": "6472e146",
   "metadata": {},
   "outputs": [
    {
     "name": "stdout",
     "output_type": "stream",
     "text": [
      "the white spaces are: 3\n"
     ]
    }
   ],
   "source": [
    "#5\n",
    "import re\n",
    "text=\"The rain is going in India\"\n",
    "x=re.search(\"\\s\",text)\n",
    "print(\"the white spaces are:\",x.start())"
   ]
  },
  {
   "cell_type": "code",
   "execution_count": 29,
   "id": "2899b465",
   "metadata": {},
   "outputs": [
    {
     "name": "stdout",
     "output_type": "stream",
     "text": [
      "None\n"
     ]
    }
   ],
   "source": [
    "#6\n",
    "import re\n",
    "text=\"The rain is going in India\"\n",
    "x=re.search(\"nepal\",text)\n",
    "print(x)"
   ]
  },
  {
   "cell_type": "code",
   "execution_count": 30,
   "id": "156d8daf",
   "metadata": {},
   "outputs": [
    {
     "name": "stdout",
     "output_type": "stream",
     "text": [
      "['The', 'rain', 'is', 'going', 'in', 'India']\n"
     ]
    }
   ],
   "source": [
    "#7\n",
    "import re\n",
    "text=\"The rain is going in India\"\n",
    "x=re.split(\"\\s\",text)\n",
    "print(x)"
   ]
  },
  {
   "cell_type": "code",
   "execution_count": 39,
   "id": "af96a1f5",
   "metadata": {},
   "outputs": [
    {
     "name": "stdout",
     "output_type": "stream",
     "text": [
      "['The', 'rain is going in India']\n"
     ]
    }
   ],
   "source": [
    "#8\n",
    "import re\n",
    "text=\"The rain is going in India\"\n",
    "x=re.split(\"\\s\",text,1)\n",
    "print(x)"
   ]
  },
  {
   "cell_type": "code",
   "execution_count": 41,
   "id": "8d9142ea",
   "metadata": {},
   "outputs": [
    {
     "name": "stdout",
     "output_type": "stream",
     "text": [
      "['The', 'rain', 'is going in India']\n"
     ]
    }
   ],
   "source": [
    "import re\n",
    "text=\"The rain is going in India\"\n",
    "x=re.split(\"\\s\",text,2)\n",
    "print(x)"
   ]
  },
  {
   "cell_type": "code",
   "execution_count": 44,
   "id": "0cec140a",
   "metadata": {},
   "outputs": [
    {
     "name": "stdout",
     "output_type": "stream",
     "text": [
      "The2rain2is2going2to2India\n"
     ]
    }
   ],
   "source": [
    "#9\n",
    "import re\n",
    "text=\"The rain is going to India\"\n",
    "x=re.sub(\"\\s\",\"2\",text)\n",
    "print(x)"
   ]
  },
  {
   "cell_type": "code",
   "execution_count": 49,
   "id": "e0655292",
   "metadata": {},
   "outputs": [
    {
     "name": "stdout",
     "output_type": "stream",
     "text": [
      "the2rain2is going to india\n"
     ]
    }
   ],
   "source": [
    "#10\n",
    "import re\n",
    "text=\"the rain is going to india\"\n",
    "x=re.sub(\"\\s\",\"2\",text,2)\n",
    "print(x)"
   ]
  },
  {
   "cell_type": "code",
   "execution_count": null,
   "id": "10e80a88",
   "metadata": {},
   "outputs": [],
   "source": []
  }
 ],
 "metadata": {
  "kernelspec": {
   "display_name": "Python 3 (ipykernel)",
   "language": "python",
   "name": "python3"
  },
  "language_info": {
   "codemirror_mode": {
    "name": "ipython",
    "version": 3
   },
   "file_extension": ".py",
   "mimetype": "text/x-python",
   "name": "python",
   "nbconvert_exporter": "python",
   "pygments_lexer": "ipython3",
   "version": "3.11.5"
  }
 },
 "nbformat": 4,
 "nbformat_minor": 5
}
