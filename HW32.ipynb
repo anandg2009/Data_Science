{
 "cells": [
  {
   "cell_type": "code",
   "execution_count": 15,
   "id": "8d49ab08-b5b5-4a17-8222-b9e09f1755b5",
   "metadata": {},
   "outputs": [
    {
     "name": "stdout",
     "output_type": "stream",
     "text": [
      "[19, 65, 23, 90]\n"
     ]
    }
   ],
   "source": [
    "#1\n",
    "\n",
    "def swapPositions(list, pos1, pos2):\n",
    "\t\n",
    "\tlist[pos1], list[pos2] = list[pos2], list[pos1]\n",
    "\treturn list\n",
    "\n",
    "# Driver function\n",
    "List = [23, 65, 19, 90]\n",
    "pos1, pos2 = 1, 3\n",
    "\n",
    "print(swapPositions(List, pos1-1, pos2-1))\n"
   ]
  },
  {
   "cell_type": "code",
   "execution_count": 16,
   "id": "e3be2e92-ee18-4b29-82bf-f50398a86f42",
   "metadata": {},
   "outputs": [
    {
     "name": "stdout",
     "output_type": "stream",
     "text": [
      "[19, 65, 23, 90]\n"
     ]
    }
   ],
   "source": [
    "#2\n",
    "\n",
    "def swapPositions(list, pos1, pos2):\n",
    "\t\n",
    "\t# popping both the elements from list\n",
    "\tfirst_ele = list.pop(pos1) \n",
    "\tsecond_ele = list.pop(pos2-1)\n",
    "\t\n",
    "\t# inserting in each others positions\n",
    "\tlist.insert(pos1, second_ele) \n",
    "\tlist.insert(pos2, first_ele) \n",
    "\t\n",
    "\treturn list\n",
    "\n",
    "# Driver function\n",
    "List = [23, 65, 19, 90]\n",
    "pos1, pos2 = 1, 3\n",
    "\n",
    "print(swapPositions(List, pos1-1, pos2-1))\n"
   ]
  },
  {
   "cell_type": "code",
   "execution_count": 4,
   "id": "c68f8a89-ba6e-4614-9348-fbf5d4a882aa",
   "metadata": {},
   "outputs": [
    {
     "name": "stdout",
     "output_type": "stream",
     "text": [
      "[19, 65, 23, 90]\n"
     ]
    }
   ],
   "source": [
    "#3\n",
    "# Python3 program to swap elements at\n",
    "# given positions\n",
    "\n",
    "# Swap function\n",
    "def swapPositions(list, pos1, pos2):\n",
    "\n",
    "\t# Storing the two elements\n",
    "\t# as a pair in a tuple variable get\n",
    "\tget = list[pos1], list[pos2]\n",
    "\t\n",
    "\t# unpacking those elements\n",
    "\tlist[pos2], list[pos1] = get\n",
    "\t\n",
    "\treturn list\n",
    "\n",
    "# Driver Code\n",
    "List = [23, 65, 19, 90]\n",
    "\n",
    "pos1, pos2 = 1, 3\n",
    "print(swapPositions(List, pos1-1, pos2-1))\n"
   ]
  },
  {
   "cell_type": "code",
   "execution_count": 17,
   "id": "df1ef754-d8f0-43cf-9548-8e3be205623b",
   "metadata": {},
   "outputs": [
    {
     "name": "stdout",
     "output_type": "stream",
     "text": [
      "[19, 65, 23, 90]\n"
     ]
    }
   ],
   "source": [
    "#4\n",
    "\n",
    "def swapPositions(lis, pos1, pos2):\n",
    "\ttemp=lis[pos1]\n",
    "\tlis[pos1]=lis[pos2]\n",
    "\tlis[pos2]=temp\n",
    "\treturn lis\n",
    "# Driver function\n",
    "List = [23, 65, 19, 90]\n",
    "pos1, pos2 = 1, 3\n",
    "\n",
    "print(swapPositions(List, pos1-1, pos2-1))\n"
   ]
  },
  {
   "cell_type": "code",
   "execution_count": 6,
   "id": "9da97d20-969c-4b6e-94a1-9bba5e0b7abe",
   "metadata": {},
   "outputs": [
    {
     "name": "stdout",
     "output_type": "stream",
     "text": [
      "[19, 65, 23, 90]\n"
     ]
    }
   ],
   "source": [
    "#5\n",
    "def swapPositions(lis, pos1, pos2):\n",
    "\tfor i, x in enumerate(lis):\n",
    "\t\tif i == pos1:\n",
    "\t\t\telem1 = x\n",
    "\t\tif i == pos2:\n",
    "\t\t\telem2 = x\n",
    "\tlis[pos1] = elem2\n",
    "\tlis[pos2] = elem1\n",
    "\treturn lis\n",
    "\n",
    "List = [23, 65, 19, 90]\n",
    "pos1, pos2 = 1, 3\n",
    "print(swapPositions(List, pos1-1, pos2-1))\n",
    "#This code is contributed by Edula Vinay Kumar Reddy\n"
   ]
  },
  {
   "cell_type": "code",
   "execution_count": 7,
   "id": "c1429540-23e0-4190-bc15-96b03686d092",
   "metadata": {},
   "outputs": [
    {
     "name": "stdout",
     "output_type": "stream",
     "text": [
      "The length of list is:  3\n"
     ]
    }
   ],
   "source": [
    "#6\n",
    "# Python len()\n",
    "li = [10, 20, 30]\n",
    "n = len(li)\n",
    "print(\"The length of list is: \", n)\n"
   ]
  },
  {
   "cell_type": "code",
   "execution_count": 10,
   "id": "8ac24f8f-32d2-4e6d-889e-32aaa2f11288",
   "metadata": {},
   "outputs": [
    {
     "name": "stdout",
     "output_type": "stream",
     "text": [
      "The list is : [1, 4, 5, 7, 8]\n",
      "Length of list using naive method is : 5\n"
     ]
    }
   ],
   "source": [
    "#7\n",
    "# Initializing list\n",
    "test_list = [1, 4, 5, 7, 8]\n",
    "\n",
    "# Printing test_list\n",
    "print(\"The list is : \" + str(test_list))\n",
    "\n",
    "# Finding length of list using loop\n",
    "# Initializing counter\n",
    "counter = 0\n",
    "for i in test_list:\n",
    "\n",
    "\t# incrementing counter\n",
    "\tcounter = counter + 1\n",
    "\n",
    "# Printing length of list\n",
    "print(\"Length of list using naive method is : \" + str(counter))\n"
   ]
  },
  {
   "cell_type": "code",
   "execution_count": 12,
   "id": "304b7e3e-4c79-415f-b96e-3d58512f0903",
   "metadata": {},
   "outputs": [
    {
     "name": "stdout",
     "output_type": "stream",
     "text": [
      "The list is : [1, 4, 5, 7, 8]\n",
      "Length of list using len() is : 5\n",
      "Length of list using length_hint() is : 5\n"
     ]
    }
   ],
   "source": [
    "#8\n",
    "from operator import length_hint\n",
    "\n",
    "# Initializing list\n",
    "test_list = [1, 4, 5, 7, 8]\n",
    "\n",
    "# Printing test_list\n",
    "print(\"The list is : \" + str(test_list))\n",
    "\n",
    "# Finding length of list using len()\n",
    "list_len = len(test_list)\n",
    "\n",
    "# Finding length of list using length_hint()\n",
    "list_len_hint = length_hint(test_list)\n",
    "\n",
    "# Printing length of list\n",
    "print(\"Length of list using len() is : \" + str(list_len))\n",
    "print(\"Length of list using length_hint() is : \" + str(list_len_hint))\n"
   ]
  },
  {
   "cell_type": "code",
   "execution_count": 13,
   "id": "e8639e85-067b-4b04-8fc6-abae253516fe",
   "metadata": {},
   "outputs": [
    {
     "name": "stdout",
     "output_type": "stream",
     "text": [
      "The list is : [1, 4, 5, 7, 8]\n",
      "Length of list using len() is : 5\n",
      "Length of list using length_hint() is : 5\n"
     ]
    }
   ],
   "source": [
    "#9\n",
    "# Initializing list\n",
    "test_list = [1, 4, 5, 7, 8]\n",
    "\n",
    "# Printing test_list\n",
    "print(\"The list is : \" + str(test_list))\n",
    "\n",
    "# Finding length of list\n",
    "# using sum()\n",
    "list_len = sum(1 for i in test_list)\n",
    "\n",
    "\n",
    "# Printing length of list\n",
    "print(\"Length of list using len() is : \" + str(list_len))\n",
    "print(\"Length of list using length_hint() is : \" + str(list_len))\n"
   ]
  },
  {
   "cell_type": "code",
   "execution_count": 14,
   "id": "aeb1c126-f4ae-4e45-b7dd-9d148814f81d",
   "metadata": {},
   "outputs": [
    {
     "name": "stdout",
     "output_type": "stream",
     "text": [
      "Length of list using list comprehension is: 5\n"
     ]
    }
   ],
   "source": [
    "#10\n",
    "# Define the list to be used for the demonstration\n",
    "test_list = [1, 4, 5, 7, 8]\n",
    "\n",
    "# Calculate the length of the list using a list comprehension and the sum function\n",
    "# The list comprehension generates a sequence of ones for each element in the list\n",
    "# The sum function then sums all the ones to give the length of the list\n",
    "length = sum(1 for _ in test_list)\n",
    "\n",
    "# Print the length of the list\n",
    "print(\"Length of list using list comprehension is:\", length)\n"
   ]
  },
  {
   "cell_type": "code",
   "execution_count": null,
   "id": "5d9d2143-8315-4cb4-90c2-c8225df5e309",
   "metadata": {},
   "outputs": [],
   "source": []
  }
 ],
 "metadata": {
  "kernelspec": {
   "display_name": "Python 3 (ipykernel)",
   "language": "python",
   "name": "python3"
  },
  "language_info": {
   "codemirror_mode": {
    "name": "ipython",
    "version": 3
   },
   "file_extension": ".py",
   "mimetype": "text/x-python",
   "name": "python",
   "nbconvert_exporter": "python",
   "pygments_lexer": "ipython3",
   "version": "3.11.7"
  }
 },
 "nbformat": 4,
 "nbformat_minor": 5
}
